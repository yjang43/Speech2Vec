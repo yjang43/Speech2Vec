{
 "cells": [
  {
   "cell_type": "code",
   "execution_count": 1,
   "id": "04f95e10-e881-4558-91b3-b0d2decba22e",
   "metadata": {},
   "outputs": [],
   "source": [
    "# embedding analysis\n",
    "\n",
    "\n",
    "# get embeddings of same words\n",
    "# compare that with other different word\n",
    "# look at the variance too?\n"
   ]
  },
  {
   "cell_type": "code",
   "execution_count": 2,
   "id": "8a57910f-d351-4ed5-a2a6-72f0a088dcb5",
   "metadata": {},
   "outputs": [],
   "source": [
    "# read all the words and save in a a datastructure\n",
    "# dictionary with array?\n",
    "\n",
    "# readin and append to \n",
    "# similar technique to what I did for dataset\n",
    "# calculate offset for file and save\n",
    "# No we don't even need this thing\n",
    "# Then just read through each txt file and record the mapping-> easy peasy\n",
    "# default dict withl list and keep appending\n",
    "# check simple anaylsis on most common words\n",
    "# check for its variance compared to randomly chosen word"
   ]
  },
  {
   "cell_type": "code",
   "execution_count": 47,
   "id": "d7a74f4f-d553-4b46-853d-6e938dd0d674",
   "metadata": {},
   "outputs": [],
   "source": [
    "import os\n",
    "import numpy as np\n",
    "import torch\n",
    "import torch.nn as nn\n",
    "\n",
    "from collections import defaultdict\n",
    "from IPython.display import Audio, display, \n",
    "from python_speech_features import mfcc\n",
    "from model import *\n",
    "\n"
   ]
  },
  {
   "cell_type": "code",
   "execution_count": 80,
   "id": "77cb0c4d-dee9-4a93-b600-53bd332ca680",
   "metadata": {},
   "outputs": [],
   "source": [
    "def create_word_mapper(data_dir, word_dir):\n",
    "    mapper = defaultdict(list)\n",
    "    mapper['meta'] = [data_dir, word_dir]\n",
    "    \n",
    "    fns = [npz[: -4] for npz in os.listdir(data_dir) if npz[-4: ] == '.npz']\n",
    "    \n",
    "    for fn in fns:\n",
    "        data = np.load(os.path.join(data_dir, f'{fn}.npz'))\n",
    "        with open(os.path.join(word_dir, f'{fn}.txt'), 'r') as txt:\n",
    "            ws = txt.read().split()\n",
    "        for i, w in enumerate(ws):\n",
    "            mapper[w].append((fn, i))\n",
    "    return mapper\n",
    "\n",
    "\n",
    "# def word2wav(word, idx, mapper):\n",
    "#     \"\"\"Helper function for get_embedding\"\"\"\n",
    "#     data_dir = mapper['meta'][0]\n",
    "#     fn, i = mapper[word.upper()][idx]\n",
    "#     wav = np.load(os.path.join(data_dir, f'{fn}.npz'))[f'arr_{i}']\n",
    "#     return wav\n",
    "\n",
    "def get_embedding(word, model, mapper, method='all'):\n",
    "    \"\"\"\n",
    "    Parameter:\n",
    "        method - one of the followings: 'all', 'average', 'first'\n",
    "    \"\"\"\n",
    "    assert method in ['all', 'average', 'first'], f\"{method} is invalid option\"\n",
    "    assert word.isupper(), f\"{word} should be all upper case\"\n",
    "    assert word in mapper, f\"{word} does not exist in mapper\"\n",
    "    \n",
    "    data_dir, word_dir = mapper['meta'][0], mapper['meta'][1]\n",
    "    wavs = []\n",
    "    for fn, i in mapper[word]:\n",
    "        wav = np.load(os.path.join(data_dir, f'{fn}.npz'))[f'arr_{i}']\n",
    "        wavs.append(wav)\n",
    "        if method == 'first':\n",
    "            break\n",
    "    \n",
    "    x_n = [torch.tensor(mfcc(wav)).float() for wav in wavs]\n",
    "    embedding = model.embed(x_n)\n",
    "    if method == 'average':\n",
    "        embedding = embedding.mean(dim=0, keepdim=True)\n",
    "    return embedding\n",
    "    "
   ]
  },
  {
   "cell_type": "code",
   "execution_count": 87,
   "id": "46cdd310-f8eb-4ca4-a084-48d1a517d173",
   "metadata": {},
   "outputs": [
    {
     "data": {
      "text/html": [
       "\n",
       "                <audio  controls=\"controls\" >\n",
       "                    <source src=\"data:audio/wav;base64,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\" type=\"audio/wav\" />\n",
       "                    Your browser does not support the audio element.\n",
       "                </audio>\n",
       "              "
      ],
      "text/plain": [
       "<IPython.lib.display.Audio object>"
      ]
     },
     "execution_count": 87,
     "metadata": {},
     "output_type": "execute_result"
    }
   ],
   "source": [
    "mapper = create_word_mapper('data/', 'data_mapping/')\n",
    "data_dir, word_dir = mapper['meta'][0], mapper['meta'][1]\n",
    "\n",
    "boys = mapper['BOY']\n",
    "fn, i = boys[1]\n",
    "wav = np.load(os.path.join(data_dir, f'{fn}.npz'))[f'arr_{i}']\n",
    "Audio(wav, rate=16000)"
   ]
  },
  {
   "cell_type": "code",
   "execution_count": 81,
   "id": "fe1d6e35-d245-4b25-a971-dfc2a67cfa6c",
   "metadata": {},
   "outputs": [
    {
     "data": {
      "text/plain": [
       "torch.Size([1, 50])"
      ]
     },
     "execution_count": 81,
     "metadata": {},
     "output_type": "execute_result"
    }
   ],
   "source": [
    "get_embedding('BOY', model, mapper, method='average').shape\n",
    "# get_embedding('BOY', model, mapper, method='all').shape"
   ]
  },
  {
   "cell_type": "code",
   "execution_count": 13,
   "id": "01d90b98-86ec-4044-900c-ff3035616502",
   "metadata": {},
   "outputs": [],
   "source": [
    "# load model for embedding\n",
    "from model import *\n",
    "import torch\n",
    "import torch.nn as nn"
   ]
  },
  {
   "cell_type": "code",
   "execution_count": 30,
   "id": "714eafad-afb7-4056-957f-fa8242f5d992",
   "metadata": {},
   "outputs": [
    {
     "data": {
      "text/plain": [
       "<All keys matched successfully>"
      ]
     },
     "execution_count": 30,
     "metadata": {},
     "output_type": "execute_result"
    }
   ],
   "source": [
    "model = Speech2Vec().float()\n",
    "ckpt = torch.load('ckpt/8.pt')\n",
    "model.load_state_dict(ckpt['state_dict'])"
   ]
  },
  {
   "cell_type": "code",
   "execution_count": 38,
   "id": "e5e57705-3033-4c7f-b05a-88ac5cec9f0c",
   "metadata": {},
   "outputs": [
    {
     "data": {
      "text/plain": [
       "torch.Size([2, 50])"
      ]
     },
     "execution_count": 38,
     "metadata": {},
     "output_type": "execute_result"
    }
   ],
   "source": [
    "model.embed([x_n, x_n]).size()"
   ]
  },
  {
   "cell_type": "code",
   "execution_count": 58,
   "id": "8c474af7-5df4-4a3a-93c5-a103f28eef53",
   "metadata": {},
   "outputs": [],
   "source": [
    "from python_speech_features import mfcc\n",
    "\n",
    "feat = mfcc(wav)\n",
    "x_n = torch.tensor(feat).float()\n"
   ]
  },
  {
   "cell_type": "code",
   "execution_count": 33,
   "id": "9c1506e8-054e-4b71-a084-fe50bf24ea73",
   "metadata": {},
   "outputs": [
    {
     "data": {
      "text/plain": [
       "torch.float64"
      ]
     },
     "execution_count": 33,
     "metadata": {},
     "output_type": "execute_result"
    }
   ],
   "source": [
    "x_n.dtype"
   ]
  },
  {
   "cell_type": "code",
   "execution_count": 59,
   "id": "487e89d3-d708-47f8-8484-fe8dd0f77d2e",
   "metadata": {},
   "outputs": [
    {
     "data": {
      "text/plain": [
       "torch.Size([36, 13])"
      ]
     },
     "execution_count": 59,
     "metadata": {},
     "output_type": "execute_result"
    }
   ],
   "source": [
    "\n"
   ]
  },
  {
   "cell_type": "code",
   "execution_count": null,
   "id": "92eb1f11-b3cb-4ee1-b97e-5830af8f384b",
   "metadata": {},
   "outputs": [],
   "source": []
  }
 ],
 "metadata": {
  "kernelspec": {
   "display_name": "Python [conda env:ml]",
   "language": "python",
   "name": "conda-env-ml-py"
  },
  "language_info": {
   "codemirror_mode": {
    "name": "ipython",
    "version": 3
   },
   "file_extension": ".py",
   "mimetype": "text/x-python",
   "name": "python",
   "nbconvert_exporter": "python",
   "pygments_lexer": "ipython3",
   "version": "3.8.11"
  }
 },
 "nbformat": 4,
 "nbformat_minor": 5
}
