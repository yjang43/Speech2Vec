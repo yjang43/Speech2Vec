{
 "cells": [
  {
   "cell_type": "code",
   "execution_count": 5,
   "id": "04f95e10-e881-4558-91b3-b0d2decba22e",
   "metadata": {},
   "outputs": [],
   "source": [
    "# embedding analysis\n",
    "\n",
    "\n",
    "# get embeddings of same words\n",
    "# compare that with other different word\n",
    "# look at the variance too?\n"
   ]
  },
  {
   "cell_type": "code",
   "execution_count": 83,
   "id": "8a57910f-d351-4ed5-a2a6-72f0a088dcb5",
   "metadata": {},
   "outputs": [],
   "source": [
    "# read all the words and save in a a datastructure\n",
    "# dictionary with array?\n",
    "\n",
    "# readin and append to \n",
    "# similar technique to what I did for dataset\n",
    "# calculate offset for file and save\n",
    "# No we don't even need this thing\n",
    "# Then just read through each txt file and record the mapping-> easy peasy\n",
    "# default dict withl list and keep appending\n",
    "# check simple anaylsis on most common words\n",
    "# check for its variance compared to randomly chosen word"
   ]
  },
  {
   "cell_type": "code",
   "execution_count": 84,
   "id": "d7a74f4f-d553-4b46-853d-6e938dd0d674",
   "metadata": {},
   "outputs": [],
   "source": [
    "import os\n",
    "import numpy as np\n",
    "import torch\n",
    "import torch.nn as nn\n",
    "\n",
    "from collections import defaultdict\n",
    "from IPython.display import Audio\n",
    "from python_speech_features import mfcc\n",
    "from model import *\n",
    "\n"
   ]
  },
  {
   "cell_type": "code",
   "execution_count": 85,
   "id": "77cb0c4d-dee9-4a93-b600-53bd332ca680",
   "metadata": {},
   "outputs": [],
   "source": [
    "def create_word_mapper(data_dir, word_dir):\n",
    "    mapper = defaultdict(list)\n",
    "    mapper['meta'] = [data_dir, word_dir]\n",
    "    \n",
    "    fns = [npz[: -4] for npz in os.listdir(data_dir) if npz[-4: ] == '.npz']\n",
    "    \n",
    "    for fn in fns:\n",
    "        data = np.load(os.path.join(data_dir, f'{fn}.npz'))\n",
    "        with open(os.path.join(word_dir, f'{fn}.txt'), 'r') as txt:\n",
    "            ws = txt.read().split()\n",
    "        for i, w in enumerate(ws):\n",
    "            mapper[w].append((fn, i))\n",
    "    return mapper\n",
    "\n",
    "\n",
    "# def word2wav(word, idx, mapper):\n",
    "#     \"\"\"Helper function for get_embedding\"\"\"\n",
    "#     data_dir = mapper['meta'][0]\n",
    "#     fn, i = mapper[word.upper()][idx]\n",
    "#     wav = np.load(os.path.join(data_dir, f'{fn}.npz'))[f'arr_{i}']\n",
    "#     return wav\n",
    "\n",
    "def get_embedding(word, model, mapper, method='all'):\n",
    "    \"\"\"\n",
    "    Parameter:\n",
    "        method - one of the followings: 'all', 'average', 'first'\n",
    "    \"\"\"\n",
    "    assert method in ['all', 'average', 'first'], f\"{method} is invalid option\"\n",
    "    assert word.isupper(), f\"{word} should be all upper case\"\n",
    "    assert word in mapper, f\"{word} does not exist in mapper\"\n",
    "    \n",
    "    data_dir, word_dir = mapper['meta'][0], mapper['meta'][1]\n",
    "    wavs = []\n",
    "    for fn, i in mapper[word]:\n",
    "        wav = np.load(os.path.join(data_dir, f'{fn}.npz'))[f'arr_{i}']\n",
    "        wavs.append(wav)\n",
    "        if method == 'first':\n",
    "            break\n",
    "    \n",
    "    x_n = [torch.tensor(mfcc(wav)).float() for wav in wavs]\n",
    "    embedding = model.embed(x_n)\n",
    "    if method == 'average':\n",
    "        embedding = embedding.mean(dim=0, keepdim=True)\n",
    "    return embedding\n",
    "    "
   ]
  },
  {
   "cell_type": "code",
   "execution_count": 92,
   "id": "46cdd310-f8eb-4ca4-a084-48d1a517d173",
   "metadata": {},
   "outputs": [
    {
     "data": {
      "text/html": [
       "\n",
       "                <audio  controls=\"controls\" >\n",
       "                    <source src=\"data:audio/wav;base64,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\" type=\"audio/wav\" />\n",
       "                    Your browser does not support the audio element.\n",
       "                </audio>\n",
       "              "
      ],
      "text/plain": [
       "<IPython.lib.display.Audio object>"
      ]
     },
     "execution_count": 92,
     "metadata": {},
     "output_type": "execute_result"
    }
   ],
   "source": [
    "mapper = create_word_mapper('data/', 'data_mapping/')\n",
    "data_dir, word_dir = mapper['meta'][0], mapper['meta'][1]\n",
    "\n",
    "boys = mapper['BOY']\n",
    "fn, i = boys[1]\n",
    "wav = np.load(os.path.join(data_dir, f'{fn}.npz'))[f'arr_{i}']\n",
    "Audio(wav, rate=16000)"
   ]
  },
  {
   "cell_type": "code",
   "execution_count": 87,
   "id": "fe1d6e35-d245-4b25-a971-dfc2a67cfa6c",
   "metadata": {},
   "outputs": [
    {
     "data": {
      "text/plain": [
       "<All keys matched successfully>"
      ]
     },
     "execution_count": 87,
     "metadata": {},
     "output_type": "execute_result"
    }
   ],
   "source": [
    "model = Speech2Vec().float()\n",
    "ckpt = torch.load('ckpt/50.pt')\n",
    "model.load_state_dict(ckpt['state_dict'])\n"
   ]
  },
  {
   "cell_type": "code",
   "execution_count": 88,
   "id": "63f3de90-a560-494a-ab72-2fa9fec69920",
   "metadata": {},
   "outputs": [],
   "source": [
    "# sample_words = ['BOY', 'GIRL', 'LOVE', 'LIKE', 'HAPPY', 'MAN', 'WOMAN']\n",
    "sample_words = ['BOY', 'GIRL', 'MAN', 'WOMAN']\n",
    "sample_embs = []"
   ]
  },
  {
   "cell_type": "code",
   "execution_count": 13,
   "id": "96efa745-32c1-41cc-963c-12e5c38915ee",
   "metadata": {},
   "outputs": [
    {
     "name": "stdout",
     "output_type": "stream",
     "text": [
      "26\n",
      "16\n",
      "88\n",
      "21\n"
     ]
    }
   ],
   "source": [
    "for w in sample_words:\n",
    "    print(len(mapper[w]))"
   ]
  },
  {
   "cell_type": "code",
   "execution_count": 14,
   "id": "714eafad-afb7-4056-957f-fa8242f5d992",
   "metadata": {},
   "outputs": [],
   "source": [
    "for w in sample_words:\n",
    "    emb = get_embedding(w, model, mapper, method='average')\n",
    "    sample_embs.append(emb)\n"
   ]
  },
  {
   "cell_type": "code",
   "execution_count": 15,
   "id": "e5e57705-3033-4c7f-b05a-88ac5cec9f0c",
   "metadata": {},
   "outputs": [
    {
     "name": "stdout",
     "output_type": "stream",
     "text": [
      "(4, 50)\n"
     ]
    }
   ],
   "source": [
    "embs = torch.cat(sample_embs, dim=0).numpy()\n",
    "print(embs.shape)"
   ]
  },
  {
   "cell_type": "code",
   "execution_count": 16,
   "id": "8c474af7-5df4-4a3a-93c5-a103f28eef53",
   "metadata": {},
   "outputs": [],
   "source": [
    "from sklearn.decomposition import PCA\n",
    "\n",
    "pca = PCA(n_components=2)\n",
    "\n"
   ]
  },
  {
   "cell_type": "code",
   "execution_count": 17,
   "id": "9c1506e8-054e-4b71-a084-fe50bf24ea73",
   "metadata": {},
   "outputs": [],
   "source": [
    "p_emb = pca.fit_transform(embs)"
   ]
  },
  {
   "cell_type": "code",
   "execution_count": 18,
   "id": "487e89d3-d708-47f8-8484-fe8dd0f77d2e",
   "metadata": {},
   "outputs": [],
   "source": [
    "import matplotlib.pyplot as plt\n"
   ]
  },
  {
   "cell_type": "code",
   "execution_count": 19,
   "id": "92eb1f11-b3cb-4ee1-b97e-5830af8f384b",
   "metadata": {},
   "outputs": [
    {
     "data": {
      "image/png": "[encoded data removed]",
      "text/plain": [
       "<Figure size 432x288 with 1 Axes>"
      ]
     },
     "metadata": {
      "needs_background": "light"
     },
     "output_type": "display_data"
    }
   ],
   "source": [
    "plt.scatter(p_emb[:, 0], p_emb[:, 1])\n",
    "# annotate\n",
    "for i, w in enumerate(sample_words):\n",
    "    plt.annotate(w, (p_emb[i, 0], p_emb[i, 1]))"
   ]
  },
  {
   "cell_type": "code",
   "execution_count": null,
   "id": "ec4275e8-ef3d-417c-8c23-515cab5c0f62",
   "metadata": {},
   "outputs": [],
   "source": []
  },
  {
   "cell_type": "code",
   "execution_count": 7,
   "id": "5597f688-48d3-4f96-ab0a-d1674c769203",
   "metadata": {},
   "outputs": [
    {
     "ename": "NameError",
     "evalue": "name 'plt' is not defined",
     "output_type": "error",
     "traceback": [
      "\u001b[1;31m---------------------------------------------------------------------------\u001b[0m",
      "\u001b[1;31mNameError\u001b[0m                                 Traceback (most recent call last)",
      "\u001b[1;32m<ipython-input-7-86eb89438ae7>\u001b[0m in \u001b[0;36m<module>\u001b[1;34m\u001b[0m\n\u001b[1;32m----> 1\u001b[1;33m \u001b[0mplt\u001b[0m\u001b[1;33m.\u001b[0m\u001b[0mscatter\u001b[0m\u001b[1;33m(\u001b[0m\u001b[0mp_emb\u001b[0m\u001b[1;33m[\u001b[0m\u001b[1;33m:\u001b[0m \u001b[0mboy\u001b[0m\u001b[1;33m.\u001b[0m\u001b[0msize\u001b[0m\u001b[1;33m(\u001b[0m\u001b[1;36m0\u001b[0m\u001b[1;33m)\u001b[0m\u001b[1;33m,\u001b[0m \u001b[1;36m0\u001b[0m\u001b[1;33m]\u001b[0m\u001b[1;33m,\u001b[0m \u001b[0mp_emb\u001b[0m\u001b[1;33m[\u001b[0m\u001b[1;33m:\u001b[0m \u001b[0mboy\u001b[0m\u001b[1;33m.\u001b[0m\u001b[0msize\u001b[0m\u001b[1;33m(\u001b[0m\u001b[1;36m0\u001b[0m\u001b[1;33m)\u001b[0m\u001b[1;33m,\u001b[0m \u001b[1;36m1\u001b[0m\u001b[1;33m]\u001b[0m\u001b[1;33m)\u001b[0m\u001b[1;33m\u001b[0m\u001b[1;33m\u001b[0m\u001b[0m\n\u001b[0m\u001b[0;32m      2\u001b[0m \u001b[0mplt\u001b[0m\u001b[1;33m.\u001b[0m\u001b[0mscatter\u001b[0m\u001b[1;33m(\u001b[0m\u001b[0mp_emb\u001b[0m\u001b[1;33m[\u001b[0m\u001b[0mboy\u001b[0m\u001b[1;33m.\u001b[0m\u001b[0msize\u001b[0m\u001b[1;33m(\u001b[0m\u001b[1;36m0\u001b[0m\u001b[1;33m)\u001b[0m\u001b[1;33m:\u001b[0m \u001b[1;33m,\u001b[0m \u001b[1;36m0\u001b[0m\u001b[1;33m]\u001b[0m\u001b[1;33m,\u001b[0m \u001b[0mp_emb\u001b[0m\u001b[1;33m[\u001b[0m\u001b[0mboy\u001b[0m\u001b[1;33m.\u001b[0m\u001b[0msize\u001b[0m\u001b[1;33m(\u001b[0m\u001b[1;36m0\u001b[0m\u001b[1;33m)\u001b[0m\u001b[1;33m:\u001b[0m \u001b[1;33m,\u001b[0m \u001b[1;36m1\u001b[0m\u001b[1;33m]\u001b[0m\u001b[1;33m)\u001b[0m\u001b[1;33m\u001b[0m\u001b[1;33m\u001b[0m\u001b[0m\n",
      "\u001b[1;31mNameError\u001b[0m: name 'plt' is not defined"
     ]
    }
   ],
   "source": [
    "plt.scatter(p_emb[: boy.size(0), 0], p_emb[: boy.size(0), 1])\n",
    "plt.scatter(p_emb[boy.size(0): , 0], p_emb[boy.size(0): , 1])"
   ]
  },
  {
   "cell_type": "code",
   "execution_count": 10,
   "id": "63cb2dce-5360-4bd5-bce3-227e4d6ccd6f",
   "metadata": {},
   "outputs": [
    {
     "data": {
      "text/plain": [
       "[<matplotlib.lines.Line2D at 0x21373bcab20>]"
      ]
     },
     "execution_count": 10,
     "metadata": {},
     "output_type": "execute_result"
    },
    {
     "data": {
      "image/png": "[encoded data removed]",
      "text/plain": [
       "<Figure size 432x288 with 1 Axes>"
      ]
     },
     "metadata": {
      "needs_background": "light"
     },
     "output_type": "display_data"
    }
   ],
   "source": [
    "plt.plot(ckpt['losses'])"
   ]
  },
  {
   "cell_type": "code",
   "execution_count": 58,
   "id": "ee65f7af-580a-4bc6-b031-43509321fddd",
   "metadata": {},
   "outputs": [
    {
     "data": {
      "text/plain": [
       "tensor(1.7722)"
      ]
     },
     "execution_count": 58,
     "metadata": {},
     "output_type": "execute_result"
    }
   ],
   "source": [
    "\n",
    "model = Speech2Vec().float()\n",
    "ckpt = torch.load('ckpt/50.pt')\n",
    "model.load_state_dict(ckpt['state_dict'])\n",
    "word = get_embedding('HE', model, mapper, method='all')\n",
    "# word2 = get_embedding('THAT', model, mapper, method='all')\n",
    "\n",
    "\n",
    "std = word.std(dim=0).mean()\n",
    "std"
   ]
  },
  {
   "cell_type": "code",
   "execution_count": 42,
   "id": "229f09bf-6df2-41d5-9ae0-ea2d3717c497",
   "metadata": {},
   "outputs": [
    {
     "data": {
      "text/plain": [
       "(array([ 13.,  37.,  78., 134., 112., 121.,  89.,  31.,  18.,   9.]),\n",
       " array([-2.8715832 , -1.3859986 ,  0.09958611,  1.5851707 ,  3.0707555 ,\n",
       "         4.55634   ,  6.041925  ,  7.527509  ,  9.013094  , 10.498679  ,\n",
       "        11.984263  ], dtype=float32),\n",
       " <BarContainer object of 10 artists>)"
      ]
     },
     "execution_count": 42,
     "metadata": {},
     "output_type": "execute_result"
    },
    {
     "data": {
      "image/png": "[encoded data removed]",
      "text/plain": [
       "<Figure size 432x288 with 1 Axes>"
      ]
     },
     "metadata": {
      "needs_background": "light"
     },
     "output_type": "display_data"
    }
   ],
   "source": [
    "# plt.xlim(-10, 10)\n",
    "i = 30\n",
    "plt.hist(word[:, i].numpy(), alpha=0.5)\n",
    "plt.hist(word2[:, i].numpy(), alpha=0.5)"
   ]
  },
  {
   "cell_type": "code",
   "execution_count": 43,
   "id": "987bca22-221d-40d1-aef0-150554e9e483",
   "metadata": {},
   "outputs": [
    {
     "ename": "TypeError",
     "evalue": "forward() missing 2 required positional arguments: 'ctr' and 'ctxs'",
     "output_type": "error",
     "traceback": [
      "\u001b[1;31m---------------------------------------------------------------------------\u001b[0m",
      "\u001b[1;31mTypeError\u001b[0m                                 Traceback (most recent call last)",
      "\u001b[1;32m<ipython-input-43-3876033efa86>\u001b[0m in \u001b[0;36m<module>\u001b[1;34m\u001b[0m\n\u001b[1;32m----> 1\u001b[1;33m \u001b[0mmodel\u001b[0m\u001b[1;33m(\u001b[0m\u001b[1;33m)\u001b[0m\u001b[1;33m\u001b[0m\u001b[1;33m\u001b[0m\u001b[0m\n\u001b[0m",
      "\u001b[1;32m~\\miniconda3\\lib\\site-packages\\torch\\nn\\modules\\module.py\u001b[0m in \u001b[0;36m_call_impl\u001b[1;34m(self, *input, **kwargs)\u001b[0m\n\u001b[0;32m   1049\u001b[0m         if not (self._backward_hooks or self._forward_hooks or self._forward_pre_hooks or _global_backward_hooks\n\u001b[0;32m   1050\u001b[0m                 or _global_forward_hooks or _global_forward_pre_hooks):\n\u001b[1;32m-> 1051\u001b[1;33m             \u001b[1;32mreturn\u001b[0m \u001b[0mforward_call\u001b[0m\u001b[1;33m(\u001b[0m\u001b[1;33m*\u001b[0m\u001b[0minput\u001b[0m\u001b[1;33m,\u001b[0m \u001b[1;33m**\u001b[0m\u001b[0mkwargs\u001b[0m\u001b[1;33m)\u001b[0m\u001b[1;33m\u001b[0m\u001b[1;33m\u001b[0m\u001b[0m\n\u001b[0m\u001b[0;32m   1052\u001b[0m         \u001b[1;31m# Do not call functions when jit is used\u001b[0m\u001b[1;33m\u001b[0m\u001b[1;33m\u001b[0m\u001b[1;33m\u001b[0m\u001b[0m\n\u001b[0;32m   1053\u001b[0m         \u001b[0mfull_backward_hooks\u001b[0m\u001b[1;33m,\u001b[0m \u001b[0mnon_full_backward_hooks\u001b[0m \u001b[1;33m=\u001b[0m \u001b[1;33m[\u001b[0m\u001b[1;33m]\u001b[0m\u001b[1;33m,\u001b[0m \u001b[1;33m[\u001b[0m\u001b[1;33m]\u001b[0m\u001b[1;33m\u001b[0m\u001b[1;33m\u001b[0m\u001b[0m\n",
      "\u001b[1;31mTypeError\u001b[0m: forward() missing 2 required positional arguments: 'ctr' and 'ctxs'"
     ]
    }
   ],
   "source": [
    "model()"
   ]
  },
  {
   "cell_type": "code",
   "execution_count": 44,
   "id": "573640be-b144-4fea-8842-8bfa1ce1ddba",
   "metadata": {},
   "outputs": [
    {
     "name": "stderr",
     "output_type": "stream",
     "text": [
      "  0%|                                                                                           | 0/97 [00:00<?, ?it/s]\n",
      "100%|█████████████████████████████████████████████████████████████████████████████████| 97/97 [00:00<00:00, 290.33it/s]\u001b[A\n",
      "\n",
      "100%|█████████████████████████████████████████████████████████████████████████████████| 97/97 [00:00<00:00, 272.43it/s]\u001b[A\n"
     ]
    }
   ],
   "source": [
    "from dataset import *\n",
    "\n",
    "dataset = LibriSpeechDataset('data/', 'data_mapping/')\n"
   ]
  },
  {
   "cell_type": "code",
   "execution_count": 46,
   "id": "a954696a-5bc6-4692-8db9-efa68e9fe4e6",
   "metadata": {},
   "outputs": [
    {
     "data": {
      "text/plain": [
       "(['BUT'],\n",
       " [['BOY'], ['AND'], ['BLUNDERBUSS'], ['THAT'], ['REQUIRED'], ['FETCHING']])"
      ]
     },
     "execution_count": 46,
     "metadata": {},
     "output_type": "execute_result"
    }
   ],
   "source": [
    "from torch.utils.data import DataLoader\n",
    "\n",
    "dataloader = DataLoader(dataset, batch_size=1, collate_fn=dataset.collate_fn, shuffle=True)\n",
    "src, tgt, w, ws = next(iter(dataloader))\n",
    "w, ws"
   ]
  },
  {
   "cell_type": "code",
   "execution_count": 6,
   "id": "1930a360-3ba4-414c-a449-2f13d5d2177a",
   "metadata": {},
   "outputs": [],
   "source": [
    "import random\n",
    "\n",
    "teacher_forcing = random.uniform(0, 1) < 0.2"
   ]
  },
  {
   "cell_type": "code",
   "execution_count": 47,
   "id": "f96ab3db-a626-4ef9-9a77-f203fa518360",
   "metadata": {},
   "outputs": [],
   "source": [
    "out = model(src, tgt)\n",
    "itr = iter(range(6))"
   ]
  },
  {
   "cell_type": "code",
   "execution_count": 49,
   "id": "049e87ab-c040-46e4-8199-6a658725e8a2",
   "metadata": {},
   "outputs": [
    {
     "ename": "ValueError",
     "evalue": "operands could not be broadcast together with shapes (15,13) (14,13) ",
     "output_type": "error",
     "traceback": [
      "\u001b[1;31m---------------------------------------------------------------------------\u001b[0m",
      "\u001b[1;31mValueError\u001b[0m                                Traceback (most recent call last)",
      "\u001b[1;32m<ipython-input-49-44039f684bf5>\u001b[0m in \u001b[0;36m<module>\u001b[1;34m\u001b[0m\n\u001b[0;32m      7\u001b[0m \u001b[0masd\u001b[0m \u001b[1;33m=\u001b[0m \u001b[0mout\u001b[0m\u001b[1;33m[\u001b[0m\u001b[0mi\u001b[0m\u001b[1;33m]\u001b[0m\u001b[1;33m[\u001b[0m\u001b[1;33m:\u001b[0m\u001b[1;33m,\u001b[0m \u001b[1;36m0\u001b[0m\u001b[1;33m,\u001b[0m \u001b[1;33m:\u001b[0m\u001b[1;33m]\u001b[0m\u001b[1;33m.\u001b[0m\u001b[0mdetach\u001b[0m\u001b[1;33m(\u001b[0m\u001b[1;33m)\u001b[0m\u001b[1;33m.\u001b[0m\u001b[0mnumpy\u001b[0m\u001b[1;33m(\u001b[0m\u001b[1;33m)\u001b[0m\u001b[1;33m\u001b[0m\u001b[1;33m\u001b[0m\u001b[0m\n\u001b[0;32m      8\u001b[0m \u001b[0maxs\u001b[0m\u001b[1;33m[\u001b[0m\u001b[1;36m1\u001b[0m\u001b[1;33m]\u001b[0m\u001b[1;33m.\u001b[0m\u001b[0mimshow\u001b[0m\u001b[1;33m(\u001b[0m\u001b[0masd\u001b[0m\u001b[1;33m)\u001b[0m\u001b[1;33m\u001b[0m\u001b[1;33m\u001b[0m\u001b[0m\n\u001b[1;32m----> 9\u001b[1;33m \u001b[0mprint\u001b[0m\u001b[1;33m/\u001b[0m\u001b[1;33m(\u001b[0m\u001b[1;33m(\u001b[0m\u001b[1;33m(\u001b[0m\u001b[0masd\u001b[0m \u001b[1;33m-\u001b[0m \u001b[0mttt\u001b[0m\u001b[1;33m[\u001b[0m\u001b[1;33m:\u001b[0m \u001b[1;33m-\u001b[0m\u001b[1;36m1\u001b[0m\u001b[1;33m]\u001b[0m\u001b[1;33m)\u001b[0m \u001b[1;33m**\u001b[0m \u001b[1;36m2\u001b[0m\u001b[1;33m)\u001b[0m\u001b[1;33m.\u001b[0m\u001b[0mmean\u001b[0m\u001b[1;33m(\u001b[0m\u001b[1;33m)\u001b[0m\u001b[1;33m,\u001b[0m \u001b[1;33m(\u001b[0m\u001b[1;33m(\u001b[0m\u001b[0masd\u001b[0m \u001b[1;33m-\u001b[0m \u001b[0mttt\u001b[0m\u001b[1;33m[\u001b[0m\u001b[1;36m1\u001b[0m\u001b[1;33m:\u001b[0m\u001b[1;33m]\u001b[0m\u001b[1;33m)\u001b[0m \u001b[1;33m**\u001b[0m \u001b[1;36m2\u001b[0m\u001b[1;33m)\u001b[0m\u001b[1;33m.\u001b[0m\u001b[0mmean\u001b[0m\u001b[1;33m(\u001b[0m\u001b[1;33m)\u001b[0m\u001b[1;33m,\u001b[0m \u001b[1;33m(\u001b[0m\u001b[1;33m(\u001b[0m\u001b[0mttt\u001b[0m\u001b[1;33m[\u001b[0m\u001b[1;33m:\u001b[0m\u001b[1;33m-\u001b[0m\u001b[1;36m1\u001b[0m\u001b[1;33m]\u001b[0m \u001b[1;33m-\u001b[0m \u001b[0mttt\u001b[0m\u001b[1;33m[\u001b[0m\u001b[1;36m1\u001b[0m\u001b[1;33m:\u001b[0m\u001b[1;33m]\u001b[0m\u001b[1;33m)\u001b[0m \u001b[1;33m**\u001b[0m \u001b[1;36m2\u001b[0m\u001b[1;33m)\u001b[0m\u001b[1;33m.\u001b[0m\u001b[0mmean\u001b[0m\u001b[1;33m(\u001b[0m\u001b[1;33m)\u001b[0m \u001b[1;33m)\u001b[0m\u001b[1;33m\u001b[0m\u001b[1;33m\u001b[0m\u001b[0m\n\u001b[0m",
      "\u001b[1;31mValueError\u001b[0m: operands could not be broadcast together with shapes (15,13) (14,13) "
     ]
    },
    {
     "data": {
      "image/png": "[encoded data removed]",
      "text/plain": [
       "<Figure size 432x288 with 2 Axes>"
      ]
     },
     "metadata": {
      "needs_background": "light"
     },
     "output_type": "display_data"
    }
   ],
   "source": [
    "fig, axs = plt.subplots(ncols=2)\n",
    "i = next(itr)\n",
    "\n",
    "ttt = tgt[i][0].numpy()\n",
    "axs[0].imshow(ttt)\n",
    "\n",
    "asd = out[i][:, 0, :].detach().numpy()\n",
    "axs[1].imshow(asd)\n",
    "print(((asd - ttt[: -1]) ** 2).mean(), ((asd - ttt[1:]) ** 2).mean(), ((ttt[:-1] - ttt[1:]) ** 2).mean() )"
   ]
  },
  {
   "cell_type": "markdown",
   "id": "4799310c-9278-46fe-ac14-e2ffd72cb7df",
   "metadata": {},
   "source": [
    "[tensor(0.3035),\n",
    " tensor(0.2907),\n",
    " tensor(0.3030),\n",
    " tensor(0.2939),\n",
    " tensor(0.2963)]"
   ]
  },
  {
   "cell_type": "markdown",
   "id": "22f7f01b-093f-4bd3-b835-1c12ea8e3378",
   "metadata": {},
   "source": [
    "[tensor(0.3005),\n",
    " tensor(0.2878),\n",
    " tensor(0.3000),\n",
    " tensor(0.2910),\n",
    " tensor(0.2934)]"
   ]
  },
  {
   "cell_type": "markdown",
   "id": "111a71a7-2c0c-48bc-a183-f94633b93be4",
   "metadata": {},
   "source": [
    "# Teacher Forcing Issue\n",
    "Exposure Bias of ground truth is too strong that it mostly predict itself!\n",
    "\n",
    "Might have to start training with TF and later learn without TF, or just learn with TF.\n",
    "\n",
    "Also, I don't know if TF can be used in non-CrossEntropy setting..."
   ]
  },
  {
   "cell_type": "markdown",
   "id": "650b5a52-57d9-4e5a-b05f-9f316877724b",
   "metadata": {},
   "source": [
    "# word similarity\n",
    "\n",
    "using cosine similarity formula\n"
   ]
  },
  {
   "cell_type": "code",
   "execution_count": 59,
   "id": "4cdba3d6-7b72-4188-a68f-b151edad36e2",
   "metadata": {},
   "outputs": [],
   "source": [
    "from sklearn.metrics.pairwise import cosine_similarity"
   ]
  },
  {
   "cell_type": "code",
   "execution_count": 61,
   "id": "4c35c24b-30d0-4e36-afee-69dc3f839e20",
   "metadata": {},
   "outputs": [
    {
     "data": {
      "text/plain": [
       "<function sklearn.metrics.pairwise.cosine_similarity(X, Y=None, dense_output=True)>"
      ]
     },
     "execution_count": 61,
     "metadata": {},
     "output_type": "execute_result"
    }
   ],
   "source": [
    "cosine_similarity"
   ]
  },
  {
   "cell_type": "code",
   "execution_count": 111,
   "id": "bea7ae47-fcc0-43f9-a8cc-232e08a3f7d5",
   "metadata": {},
   "outputs": [],
   "source": [
    "import pandas as pd\n",
    "from tqdm import tqdm\n",
    "import numpy as np\n",
    "\n",
    "# vecto-ai/word-benchmarks\n",
    "df = pd.read_csv('mc-30.csv', index_col=0)\n",
    "import torch"
   ]
  },
  {
   "cell_type": "code",
   "execution_count": 90,
   "id": "f45bb5f7-5447-43aa-a3c2-b57d6a822b67",
   "metadata": {},
   "outputs": [],
   "source": [
    "\n",
    "\n",
    "word_set = set(df['word1'].tolist() + df['word2'].tolist())"
   ]
  },
  {
   "cell_type": "code",
   "execution_count": 102,
   "id": "cc07b195-6ce1-490d-aa05-6e05749d2e62",
   "metadata": {},
   "outputs": [
    {
     "name": "stdout",
     "output_type": "stream",
     "text": [
      "ROOSTER does not exist in mapper\n"
     ]
    }
   ],
   "source": [
    "\n",
    "word_dict = {}\n",
    "for w in tqdm(word_set):\n",
    "    try:\n",
    "        emb = get_embedding(w.upper(), model, mapper, method='average')\n",
    "    except AssertionError as e:\n",
    "        print(e)\n",
    "        emb = torch.zeros((1, 50))\n",
    "    word_dict[w] = emb"
   ]
  },
  {
   "cell_type": "code",
   "execution_count": 128,
   "id": "6089e66b-b59f-437c-b2b9-6d00d52c40ef",
   "metadata": {},
   "outputs": [],
   "source": [
    "\n",
    "# consine sim\n",
    "for i, row in df.iterrows():\n",
    "    if i == 0:\n",
    "        X = word_dict[row['word1']]\n",
    "        Y = word_dict[row['word2']]        \n",
    "    else:\n",
    "        X = torch.cat((X, word_dict[row['word1']]), dim=0)\n",
    "        Y = torch.cat((Y, word_dict[row['word2']]), dim=0)\n",
    "\n",
    "X = X.numpy()\n",
    "Y = Y.numpy()"
   ]
  },
  {
   "cell_type": "code",
   "execution_count": 135,
   "id": "b7cf3182-e2af-40ca-9fbf-7618f20cb8e0",
   "metadata": {},
   "outputs": [],
   "source": [
    "sim = np.diagonal(cosine_similarity(X, Y))"
   ]
  },
  {
   "cell_type": "code",
   "execution_count": 134,
   "id": "9c1f9455-f628-4124-9008-ef9d378ef53c",
   "metadata": {},
   "outputs": [],
   "source": [
    "from scipy.stats import spearmanr"
   ]
  },
  {
   "cell_type": "code",
   "execution_count": 143,
   "id": "ac742511-74a7-45cf-a949-37eefff61037",
   "metadata": {},
   "outputs": [],
   "source": [
    "sim.shape\n",
    "ground_truth = df['similarity'].to_numpy()"
   ]
  },
  {
   "cell_type": "code",
   "execution_count": 144,
   "id": "a0e7a52f-83f6-4df2-843b-4d92970bba9d",
   "metadata": {},
   "outputs": [
    {
     "data": {
      "text/plain": [
       "SpearmanrResult(correlation=0.21074886076835506, pvalue=0.2636169321208565)"
      ]
     },
     "execution_count": 144,
     "metadata": {},
     "output_type": "execute_result"
    }
   ],
   "source": [
    "spearmanr(sim, ground_truth)"
   ]
  },
  {
   "cell_type": "code",
   "execution_count": null,
   "id": "77ea5875-adb7-4e11-ad3e-23c9ebd2f219",
   "metadata": {},
   "outputs": [],
   "source": []
  }
 ],
 "metadata": {
  "kernelspec": {
   "display_name": "Python 3",
   "language": "python",
   "name": "python3"
  },
  "language_info": {
   "codemirror_mode": {
    "name": "ipython",
    "version": 3
   },
   "file_extension": ".py",
   "mimetype": "text/x-python",
   "name": "python",
   "nbconvert_exporter": "python",
   "pygments_lexer": "ipython3",
   "version": "3.8.5"
  }
 },
 "nbformat": 4,
 "nbformat_minor": 5
}
