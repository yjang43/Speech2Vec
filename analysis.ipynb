{
 "cells": [
  {
   "cell_type": "code",
   "execution_count": 14,
   "id": "04f95e10-e881-4558-91b3-b0d2decba22e",
   "metadata": {},
   "outputs": [],
   "source": [
    "# embedding analysis\n",
    "\n",
    "\n",
    "# get embeddings of same words\n",
    "# compare that with other different word\n",
    "# look at the variance too?\n"
   ]
  },
  {
   "cell_type": "code",
   "execution_count": 15,
   "id": "8a57910f-d351-4ed5-a2a6-72f0a088dcb5",
   "metadata": {},
   "outputs": [],
   "source": [
    "# read all the words and save in a a datastructure\n",
    "# dictionary with array?\n",
    "\n",
    "# readin and append to \n",
    "# similar technique to what I did for dataset\n",
    "# calculate offset for file and save\n",
    "# No we don't even need this thing\n",
    "# Then just read through each txt file and record the mapping-> easy peasy\n",
    "# default dict withl list and keep appending\n",
    "# check simple anaylsis on most common words\n",
    "# check for its variance compared to randomly chosen word"
   ]
  },
  {
   "cell_type": "code",
   "execution_count": 16,
   "id": "d7a74f4f-d553-4b46-853d-6e938dd0d674",
   "metadata": {},
   "outputs": [],
   "source": [
    "import os\n",
    "import numpy as np\n",
    "import torch\n",
    "import torch.nn as nn\n",
    "\n",
    "from collections import defaultdict\n",
    "from IPython.display import Audio\n",
    "from python_speech_features import mfcc\n",
    "from model import *\n",
    "\n"
   ]
  },
  {
   "cell_type": "code",
   "execution_count": 17,
   "id": "77cb0c4d-dee9-4a93-b600-53bd332ca680",
   "metadata": {},
   "outputs": [],
   "source": [
    "def create_word_mapper(data_dir, word_dir):\n",
    "    mapper = defaultdict(list)\n",
    "    mapper['meta'] = [data_dir, word_dir]\n",
    "    \n",
    "    fns = [npz[: -4] for npz in os.listdir(data_dir) if npz[-4: ] == '.npz']\n",
    "    \n",
    "    for fn in fns:\n",
    "        data = np.load(os.path.join(data_dir, f'{fn}.npz'))\n",
    "        with open(os.path.join(word_dir, f'{fn}.txt'), 'r') as txt:\n",
    "            ws = txt.read().split()\n",
    "        for i, w in enumerate(ws):\n",
    "            mapper[w].append((fn, i))\n",
    "    return mapper\n",
    "\n",
    "\n",
    "# def word2wav(word, idx, mapper):\n",
    "#     \"\"\"Helper function for get_embedding\"\"\"\n",
    "#     data_dir = mapper['meta'][0]\n",
    "#     fn, i = mapper[word.upper()][idx]\n",
    "#     wav = np.load(os.path.join(data_dir, f'{fn}.npz'))[f'arr_{i}']\n",
    "#     return wav\n",
    "\n",
    "def get_embedding(word, model, mapper, method='all'):\n",
    "    \"\"\"\n",
    "    Parameter:\n",
    "        method - one of the followings: 'all', 'average', 'first'\n",
    "    \"\"\"\n",
    "    assert method in ['all', 'average', 'first'], f\"{method} is invalid option\"\n",
    "    assert word.isupper(), f\"{word} should be all upper case\"\n",
    "    assert word in mapper, f\"{word} does not exist in mapper\"\n",
    "    \n",
    "    data_dir, word_dir = mapper['meta'][0], mapper['meta'][1]\n",
    "    wavs = []\n",
    "    for fn, i in mapper[word]:\n",
    "        wav = np.load(os.path.join(data_dir, f'{fn}.npz'))[f'arr_{i}']\n",
    "        wavs.append(wav)\n",
    "        if method == 'first':\n",
    "            break\n",
    "    \n",
    "    x_n = [torch.tensor(mfcc(wav)).float() for wav in wavs]\n",
    "    embedding = model.embed(x_n)\n",
    "    if method == 'average':\n",
    "        embedding = embedding.mean(dim=0, keepdim=True)\n",
    "    return embedding\n",
    "    "
   ]
  },
  {
   "cell_type": "code",
   "execution_count": 18,
   "id": "46cdd310-f8eb-4ca4-a084-48d1a517d173",
   "metadata": {},
   "outputs": [
    {
     "data": {
      "text/html": [
       "\n",
       "                <audio  controls=\"controls\" >\n",
       "                    <source src=\"data:audio/wav;base64,UklGRmYfAABXQVZFZm10IBAAAAABAAEAgD4AAAB9AAACABAAZGF0YUIfAAAMA2QD2wNUBIoEjQStBOgE+QTSBK0EjQRIBN0DhwNTAxUDtQJGAsgBSAG2ACIArf9b/0//Z/+F/7T/+f89AJQAFgHXAbgCswPNBBMGJwftB74IqwmACjELCwz9DLYNWQ4BD4MPug/QD8YPeQ/yDk8Opw3kDCEMcgvMCkIK7AmmCTwJhgiRB3oGTQU2BB0DAwIeAVsAkf+2/hD+df3I/B78p/t4+0f7Ivv1+rj6afok+vL53PnV+fr5X/rs+oX7D/yZ/Bz9f/3u/YT+NP+7/zEArAAeAX4B0gE/ArACEANWA6UDzwPFA6ADjAOHA3MDWAM9AxAD2gKaAkEC3AGGAUAB/gCiAD0A4P9+/xj/x/6g/pj+rv7x/lT/xf8YALYAlwGVAr0DuQT6BekGhQcUCI0I8AhhCRYK6gqqC00M3wx/DQIONA5HDmUOcQ5qDlQOIg64DRoNVQyoCwULfQofCt8JkAkGCWYIwwcRBzUGawWbBNMDHQN1ArcB9ABKAM//dv8x/wz/Bf/s/rP+gv5E/vP9l/1t/XD9n/3r/UL+vf42/7T/LACsAB4BhgH1AXcC5wI4A4UD7ANKBK0EFAV3BasF0AX6BR8GEAbzBekF1QWLBR4FsgRPBNEDUQP6Ar8ChgI1AugBlAFAAfYA0QC+AKAArwDqADIBgQH6AYECBwOqA4MEgQWHBoAHSggGCaIJEwpbCscKWwv0C3AM4QxfDeANOw6RDs0O7w75DuoO1A6UDicOmA3fDD8MtAtKC+oKhwodCqQJHwmQCFcI5Qc2B5MG/wV6BdkECgQkA0QCagGvABYAZ/8q/wr/3f6z/qn+p/6i/oz+bv5a/nP+p/7g/jH/lP/y/0oAzABgAd4BRAKzAh8DgAPYAyAESARIBDQEDwTqA8ADmwN4A10DRwMiA+IChAIrAugBpgFvAUMBGwH2AL4AgAA7AO3/oP9v/1b/TP9g/3H/e/+W/7n/yv/S/wAAcQADAasBawIxA+8DoAQ5BbwFQga9BkIH1gdrCNwIHwlTCZMJ+glsCsUKEQteC48LjQtqCzYL5QpxCvMJhAkLCY0IEgh7B+4GZwbLBTcFwwR+BC8ExQNHA90CegINAogB8QBYAMD/Mf/b/pv+Wv4n/hX+Iv46/lj+eP6g/tb+FP9W/5b/4P8WAFEAkQDZAC8BcgG3AQYCVwKcAtgCCQMuA0QDUQNOA1gDXQNWAzMD/QLGApUCWgIkAtwBfgE5ASgBKgEWAcAAjwBCAP7/z/+v/6j/oP+P/37/bP9e/1b/Xv95/5v/1/8pAJkAHgGvAT8C3wKYA28ERgUVBuAGpQdcCOYIXAniCXEK7wpZC7wLKwx1DLAMDg1aDYcNmw2xDcINrA2EDUcN9Qx8DPcLdwv5ClMKmAnoCFII1AdUB9gGVQbpBYgFFwWgBDEEsQMsA7oCXAL3AZIBMgHvALkApwCbAJkAogC2ANkAAwFIAasB8gEoAnoC3QIfA0kDjgPTA/sD9gPxAwAEGQQsBEoEYwRvBHkEgAR2BFYEKgT7A8wDlgN2A1YDJAPaAo4CMALoAagBfAFZAS8BGwESAQAB+wD5APQA7ADxAPYADQEyAUgBZQGKAcYBEAJkAssCRwPFA0UE3ASIBSsG2AbUB5kIPwnVCWIK4gpDC2gLkgvKC+ML1Au0C00LGwsZC94KlgplCi4K7AmYCUkJ+giXCBIIkQcdB5UG5gVIBdcEagTiA1YD8AKQAiQCvAF+AVcBDwGxAGIAIADv/7b/dv9K/xT/3f6n/of+c/5n/l/+Yv5s/o7+uP7l/gz/Kv9U/2//b/+K/57/o/+v/8D/yP++/7L/r/+t/7v/2f/l/+///v8OACIANgBCAEAAMwApADEAKQARAAAACQATABgAEwA4AGAAhQCsAN4ADQFDAYMB1wEhAnwC2gJRA8oDMQSgBCMFnwUuBtgGdAf+B28I4wgmCVwJlQnTCewJAgoMCg4KGAoRCu4J0Am6CbgJvQm9Cb0JrgmBCTwJ9Qi3CFwI5QdZB8wGRgbSBV4F7QRvBAIEnQMsA+kCwQKOAk0CEALjAcMBmQGKAWoBTwHb/zz9ff5x/hb8Dexa6QzxgfYU+bH7Tv4G/Y76+Prq+zb8HPqY+qX7gf0//TD++f95AZcB2QDsAFwBQAH2ABgALQG0AEAAnv9bAL4BzwCR/yf/TP6o/PL5l/mU+S77avz9/bsAyQLRAw0FTga2B1cIXwldCp4LdQzEDMwNvxCQEzkVfBZvGOkaWh2RH6UibiUOKH4q/SvpK6sqhirRKV0l7x/qGx4ZlhQ1EIMO/Q2GDKoK2wpaDXcPlRDeEZ0UfBZIFmMVkhUgFcYSRhBwD9UPVw9nDl4OVA/CEIURbRLaE9MU8BPlEb0Qxg/6DNwIgwX1AgwAt/yk+uj5OfmW+NT4uvkk+y38X/1U/6sB8AJ8AtkBdwLfAg0C1wF8AjoDXQPFA74EIQakBpoGRwfvB+EIZQomDHEO9hA3E6AVMRjMG68fMCRSKhQxPzZxOt09Fj52OgU3+zNTLBsfVxJeCGj9NfCE5dzeltkw1NXRfNTq2XzeDOOv6vn0/PzyAQUH4wt/Dc0LNgrwCPAFOwGp/dn8of0r/gD/RQHmBFcI0QrTDIAOWQ70C1kIoATe//X5f/Na7Wbo4eRS4srgCOG240DnbeuQ8Hf2ffsv/ygClwRNBQwESAEn/pD6dfYZ8mDu0usJ6r7olOjC6cvrm+2I7y3yNPUT9yf48vjG+Tf6ovqH+778J/5YAJYD2QdrDBYRAxavG+whaygdL4A21j2wQ/9GHUiaRstC4jzAM90lcBbSCAz8xe2i4GHXptC/ytrHssmizvnTVNqi417vZvopAxsLuRLWF20ZMhnPGOEWwRJqDg0Mewr1CJEHowfmCLEKYQz9DWgPLhBNDwQNIgqfBlIBgfq/85bto+df4jLe1dvL2rPbft5E40npqO9a9rP92QR7Cv0N6Q+CEE0PEgxUB7IBc/s09ZXv+eox5z7kmOKY4hnkaeZc6U7tBfL89rT7JQA5BJsHQAq8DHwPXhIsFbEYch1PI2gqxDJcO4FCAEhvS95LBEptRmM+UTCeIH4SlgN08qTi2dZQzbPEhr9IvyrCFMb4y+nVNuNf8MX7MQcjE7QcaiIPJoko7ic3JOMfdxy+GOQTLQ/3C50KFgq/CQwKPgtkDK4MWgy8CwkKHQbHAED7vvWc79rosOIZ3gjbRNlJ2anb8d9V5RDsTPTB/DkEmwr8D/MTyBX2FBQSxQ0SCCgB1fnh8jfsC+ZS4abegN2b3UbfpuJ05xPtMvPI+WUAyQarDAAS2hbnGjMeiyFYJbQp3y7DNFs6Bj/8QiBEFEKuPwk9nDRlJiUZfg6xAMXuBOBR1kjNy8Mivgy+PMBZwsPGXtBb3RLpPPNe//oMghfcHXcjiSjRKf4mqyNOIdUdGxggEh0OtAsICfUFDASxA1ED/AHHAGoAcf9W/Fv4FPX+8aftV+gP5IHhpN8j3lfeCuEw5avpiO899wz/dQXsCjgQZxQNFhsVqBJPD30K5QOv/OH1ge8u6azjSuDX3jTet95q4T3mr+tF8bj3IP9TBrwMtBKFGLMdlSHrJPYo8i0TMw84Oz0DQtdFJEfZRLlBSz/EOOsqcRv/DyoEd/Pi4hrY6M9yxhS/BL4TwQbEp8cb0KrdFuvI9UUBnA9+HCEkMympLvcxTDA/LEIpSia1IJkZ3xNhEGQNmAkdBn4E4gOEAoIAT/+E/k38ivj79GryaO8W6xHn2eQZ5MDjOeTg5oXrEfEa9zj+TgaJDQ0TxxeFG6QdoxxSGfkUvA/fCMUAz/i58UDrbeU54Trf5t6d3/DhYuZc7JLy8vgCAHQHUQ5MFKMZjh7xIn4maikALZ4xgDajO1FBlUZiSrNKp0d9RGVBPjhrJ58WQgo+/JrpU9lWzw3H+L3XuK66kr/LwxDKb9YY5xf2LQKjD9se8ipIMVI1/zghOSo02S0RKdAj9ht3Ez8NjglOBlcCFv/4/ev9yvwd+2T6uvkO9xXz1e+T7YDqBuaG4qbhKOLY4q3kLumL73D2vP0BBjkO0xSLGfwcBx+RHvEaGxVnDiAHkf4C9UbsHuXu3tTZ9Naj1uHXatr13nLlCe2d9Nn7YgP7CnYRixakGlAehyHUI+Il0SjiLLoxqDfSPopFOEqsS35JhEZOQyo6eCgsFaIGffdR4+3QnsUGvQe0UK83suG4eb/kx/PV9ei1+tAI8xaKJhYz8zg+O8s8AzvAM+EqCySEHZ0UVgvoBI8BXv+y/Dz6y/nT+sf6fvm5+M73h/SQ723rg+gm5YzgAt3Y3A7fueFy5ePrcfSV/ZEG3w+7GDQfeyIGJDAkOCE8GhERxQdn/hX0mumq4MrZv9SV0cPQm9Ko1h3cAuNZ66D0qf1aBTcMEBPqGIMcpx68IP4i9SRPJokoVi0jNI87vUOjTEZUnFcJVaZQ7UxLQ4kuQxbWAwvzIN2Ex1i6jbJVq6+nbqxitzXDQM9g4OL3wA4WHxMsXTpGRvVJUUe4Q4o+PjRBJysdIxY7DisF2/58/ef+Qv8E/i7+bwAeAWT+B/tA+FDzdOsb5J3fc9za2CXWbddb3XDlBe49+LcE9hEnHl0oZTAmNfU0yjCmKiIi7xV7B5L5RO034rPYqNAzy6jJnctKz2bUGNy/5QHvUPf3/2YIag5lEfMT5hYTGBAXyxanGEcbCx5KIocpLjNjPkVLhFgEYqdlUWOnXCpTzERDLYgPrvQh34XJ87N4pVifF51/nsuno7hky43dCPLnCmgjgTRIPq1Fn0rSSNhAyDdyLhMihxRFCxEH6gN2AO7+eABABMMHYQgEBpgC6f2V9njt4eR/3HbT0csdyAjJCM2H0pfaJ+dd9+UH/xazJIww7jhaPFw79jZLLu0g/hHTA571DOdv2pzRQsw2yVjIZspFz3DV9dsM44zqE/HI9Wj58vxdAHoCPQOSBEAH7AlVDAEQMRXQGhIhlSghMW86pUSXTzJaq2FHY/NezFQQRjU1hyHFBxTrytNww/S0YagWozylYatXtSfFbNnn7fz/2hB7IisyeTp5OzY65TcfMm8qvCMiHgUYtBKkEHQRihIyEh8QKw3zCQsFvvzH8X3mBtyJ0sHKD8azxAPGcMqg01Th0fAsAKYPfR7XKlI0LDrMOs41Yy0QJOMZag5mAhD3ru1A5z3jHeD33VndY92b3VDe5t533tLdkN6n4BrjM+a76ofwgveU//kH4Q/8Fs8cCyFkJBkndSiCKFUo6SjSKlwuBTSEPHZIllXuXkZh01t1UClEPDXlG7j6mt6RyxO6oKmdor2lAazvtCTHc+JL/VYRDiJgNH1ESUraRqNBwzstMUQkXhyhGSMWWxGpEHYV7BqXHEkarxX0DtQEP/eD6OPaOs7owle8+rxXw6jMuthc6X/+0xN4Jdkz4z4SQ6s/bjnrMcwlQBUzBpL8LfaC8Bnse+pN647slezU6zvq3OWj3vfX+dPh0EbN88uAz/fXS+Ld7ZX62wdcE+IbBCKEJcsktB9IGWQUhBD9DDsLaQ1kE00cDii3N6BL+V9zb011t27jXERGri+BE0fuq8oltOin+J7WnF6nC7nPybHc2PcCFcgmFyuLK/QstCn4HjMUSw9hDBoJ1AsdGDEmKC68Mdc0FTXhLYce5wlG85HcZscnt76uPa0isEW4Vshz3wD46QzhHasrNjRvNBUuNSVzGlgN8AE1/TD+EwDwAeAGEg9PFfkV9BG+CNL5gejm17nI/rvXsoiu+bBou9/KVduk7Lv+0w27FyYdsB3iFwUOjQR6/ZH4vPWN9Yj58gHfDLgX/SFhKxUyxjVuOdQ+c0QmSQJOSVGUSwE8Eis2H8cRgPs/4ijR38crwLO6573/x6HQa9eq5AX5WglGD3ISQxnAHyQhiyEAJuMq/CpvKTsteDNMMysrECGVF00Mof1v7kjh7tXly8jFtca3zRjW793P51v1RwM/DXcTRxh4G2wbPxqGGvsbVhxgG3Mbpx6HIQcfGxgEEV8Jif4g8kznbtyD0LrHCsXoxsbKzM+K1p3fOOru88z69P9sA1kEagQYBlwISAgCB9sH5wp2DREOFA6FDqUOLw62DhYSOBeCG+khQy5cP/JPr194cNh592s9TjgzRB7JAn3gkcUyuai027PSu7bPWeR57hj0fv83DEgMBwNO/o8A0AInB34VcCv/PItGP03/U6ZTiEUlLVITx/o94wbRccgNx0DIFMw61Z3jgPHD+aL7kPre+H/2WPTm9Qr8HgRODUYaQSrFN9k9wTtUNCUplxn7BsL0tuax3FjVuNIM1r3ZZts23T3fnN7O29/Yitbz1b/Yxt4g6O7zBwATCqwRZxexGPgT9AvWA0j89/Wm8n/zmPfm/bAFNA+yGTsjPCo5MQ46RUVdUVJdhmiwaJpUbDbaHU0LyvTD2rDHYL4su8G8+cWa1ajhR+MI4mDncPDy8jfyJPdrAgUPEx5OM7dIClNcUIBH7z0ZMZwd+AY886XkfNrZ1pna/uAi4wrh994f39bf+t4R3ZndBOOa7DD61AvpHQYrNzHsM7I0HDGHKKQdaRPbCrQErAD1/d/5ZPTt7mnpAeJE2evRpczAyEPJLM+t1xbgielp9LP9+QM9B4AHYwV6Aur/Z/5K/8EBaQPABEAHNQlcCFIFiQKAAM//aQITCs4WjSbSN9hKCV/vcI97/3/vd2hWcCheBWbzVeUY1b7MINDX15fbpN+v54TpLtxkyxTJ+NTQ4ajuQwSVIIo3LUbvUi5b9VO4PXYmSBm7FGMSTBF7EWEQ/goCBE39a/PF43fR8MPCwGrIQdeU57r2AATqDUwUpximGjsYHxNFEaMVJx98Kq8zJDmtOJkw/yEpEQX/autD21TTQdEL0SbVxd0J40viZuIl5B3jjOAS4tnnJu8a98f+BgVLCU4KcQcMA6f+rflK9Vb1HPrWAA4HwQusDeYMpQs2DnsUMB3WKDQ4a0ljWkJqTHfreAtiDzsAFY388O8J6eTiN+Ev5PPlluOZ4ZzeotKbwRq6jMSP2X/wSgdpHpEvtDclOjw8kzk6Lp4flBlEHm0mBCzQKzIj0RFf/ZLrQN0r0fbHtcMQxw7SNOFP7nv1tPVX8uzwh/Tb+1UFWhDSHOAofTOCOlg6mjGuJOIXawy1Alb88vhj9azwVeyp5u/cZ9KmypnGVMUlyd3R39ve5OHr7PD988D1Pvbc9eL3tPx/Ak8H9QkHCnQHCgRXAbv+/PyJ/QQAggMyCa0SRh3QJwkzUj+kSmtUQ12hZBVegkNmIb0JVv8M+4P2L/IT7RPnUN401y3Uo9C9xyTBk8dg2nLvxgEGENEYxhnlGHIc8ySaK6UsAiw6L0M0VDR1LqUiwBHf/UHvIem36BnoBuVn4I3dOd0v3mPect5p38vi/upH+F0HmRKxGGcbRh3+H3wjYiWOJV8lZCQjIMMZ7xEDCNn7YvFr6Svi3dsO2S7Ysdan1ZHW39fa2FrcH+J+6FTv0PY1/esBqwVBCG4JggrmC8kMsQ1jD/MQ7hCyD3EOHQ3hCwkNGxJXGvYlfDRUQilNI1YJXAVdFlIoOIsakAUjAUcHXAyXCJ78Uu824B7UftBg07zUetRR3FHtpv1nBr4HbAeVBv0JMRXLJ8g3+Dx1OCkyIy03J+EgiRqYE60LaQZbBDwCKfvU7szgldfd1d7aC+Jo6PLr/+xM7lnypfgP//kEdAtuE4ocMCRNJ+UmoCJdG3EU1BH/EN4OsQpKBGH6VO9J5h/fwNkK157Wctd22QHbOtuN2jDbHN555Ovsz/Uj/VoCmgWMB7IImAn0Cv8M1w9jElYU5RS/E3sRShFKFSUc7CWVMhc//UfZS1BNQVAgTJQ08RGk+h3+Cg7oEasIy/kW6m7S0cS7yzXb5N9/22vf6uqy8tXzsfRh+Yv9tATjFTQtfToyNBMlYRqTF7oaXSKRKBEmuRlAC9v/p/jW8VjpnOFm36niqOfE6Vbn8eAg2srZdeLz8Kv9bwTBBTcFNwXjB4MO/hXUGLEXexhOGioYZREmCQ4A3fdS80Xyv/A762viO9kA00TRldE+0+XVSdmE3Lvgl+Ua6fHqAu7u81b7JgIiBwsJ6wj/CIoKlg1vEXYUFxbxF68bMyHSJ0kvpTcfQIBHfE22UU9PJj9cJ28OZ/8RBP0XoBvWBint5d2m0FXLdtYF5xbqg+HD3bPiQemp7DzwaPkmBj0RAR2OKPUrJCIFGbgbAyfBMYo3jDNHJeQTLwhZBNAFBwccAu/4gPGC7SfqIudI5N3iLOM456Ts0/Ay8m/xmfFY96sCbA3XEj0U2xTlFKUUixYZGYkXdhHcDGAL8gfZASz7pvMC7V3qZOl45oniOt/93GPdD+HU5BDmK+ZH58Dq9e8h9o/75f9kA5sHoQwUEmYWORn9GtMe2yXeLX40+jgfPURDYUxVVHRWU1HVRjY9GjJoGTsHDRLmJBMXHfcN6LHgXdKyzTPgN+9A52bYkdaq3aXjTull9X8C/gcSCf8Q3RvYHlId/SFiLOIyjTTwMaEqNCAAGT8XLxltGSQUuwez+jvyWe9I783uUuyH56ni+98b4WrkL+hU617vpvN7+Mz7Ov45AfAFCguSD3kSnBL3D9oMVguxCj8JQQWU/+j48PKB74ntDOqS5RXiWt+x3LfbLtzW3PzeheNm6Evs2u/Q8gb2YPtsA2AKBQ/LEt0XXx44Jb8rZjKjOuxDA0zkUH5SIVC/SqRDS0OGRsozhhJ3CBMXPxTw/avy5+0+2j3LR9aN5NbfaNO50LnTg9fL3pDp2/Hq9AP2ev4BDMsTzBRSGdMhuyXaJ8krHSyAJYsgPiDDH80c4hf3DyAIQQJY/pP7Jfh28fHpCeZ65cDjd+Kh4sTiwOMs56fqX+wK71rzQvih/HsAYQICAwIEPgX4BUAH5wYkA3T/7fxQ+l33m/W486HvgOo451rlg+SD5D7lVeUm5Rrm7ei87Ozw+fSg+M/8QQI1CdoP4BQ3GsIh9CkkMzU8aUPRRCREwUb7SydLEEfeSGpLbD2TIYEPBQ+RFKgWDRP3AdHmhtTw17/ir+fR5+nintYe0CTY6OQL7Bbytvh1+of7EgG8CLkO8hXzHaUiOCJUH3ccKB26IJ8kFSWvHy0WMQ6TCqIJPgjwBWUB4PhC8QXvcO9Z7uruJPCt7tTr6exc71DwzvOG+hX+8/2d/sj/lAD5AyEJkQp8COEFJAN2AGwASAHe/8/89fkP9hLyPPDE7wPvqu627kftKOuY6jzs9e9b9XL5yfp2+3r+ogMfCbsOfhL+FYwb7iFcJ30syDAgM4AwGS0WMCw2UTaWMP4szi4LMkE1qjCKEa7z/PwFGDQZQRDGCDDwVtbV5dcEggaI+Ub2Y+8W5y7xIACK/6/7MwCBAcj/pwCDAbwBDAu4E28RzArpBeX/uALwDxEVfAylBL4A1fpI/AEFmAZW/2D8B/uB9jT1Hfd/9gb3Sfqj+Wj1/vLR8RfzUfhv/PP6Oveb9CT0evaE+sX7q/mi95L2zfUg9cr0SfR49Kr0H/Q38vDvY+//8MnzUvZ19uD0evO48172ifpD/WT9af4bAL4AZgK8BbAIzQsrEDsSBRLTE2QXPRt5H+8ikCTqJeomKyeoJrwm1CPUIiAqXSlfHZgaKB1xFQQQZRghF8MLpggzCkoECAI1BkUEvf49/or7vfpm/Vn8/vti/ij8nPm6/fsAiP8UAU8EaQILAisG7AbpBQIHNgd9BmMFXwNGAtsA+P51/Vz9VPwy+nv4Avi39Yz0CPZy9hT2svXH9Cf1QfYA+JL5hvkm+vT7aP0J/o39xv3R/g4AkgFrAusBdgDZABoCkwJZASMBaAEWAWMBgADd/sz+GAA5AWECMAJ5Ae0BgAOnBmsJcgttC8MLIQzWDdsRMxRUFekW2Rj/GhYcpx69Ia8iXCNFJgcmrSY+Klwr7SrWKYcohyjOJyIlUiO0H5kcLxymHSUcVhgOFLsRPBA4ECMPoA71DI4JNwnFClAJiwhlClgKtQmTCt4KZQpxCuwKlwu0CyULdQnNCEQJJAl8CCoIzgaMBtIFAgRfAwQDSQLIASECdAFW/+3/uf9C/xYBvgFZAUUBIwEDAhEEUwaCBqAHXgidBikJWAquCYwKJQu4CokJBwuBDCgMLQv0C2gM4QycDPUMtgrjCDIJcgsyDGgLFgooCEwKkggsBwcKpgnyB8wJTQiZBB0GkQezBrEGlAdYBuoEpwbSCB0KrwopCm0IwwivB88H8QoIDBgKAAt9CpYHWQjxCq8LvAsNDGIKqQZdBl8J2QonChcJ4wiMB8YF+QQzBvkEOAOUBE0Czv32/kP9t/ws/wL+FPwv/LD64/io+Rr6qfri+oD8cPr++LH38vVT95D6p/tH+zH4Ifb69qn2i/oN/Q77NvyP+575mfgO9wz4t/nR+P/2h/fr9m31yviL+a/82fvj/Jz8wvqn+4n9C/27+93+JPsMAD4BaP2FA7gDFv+jAcAEMwCJ/bcEiPxMAHEDY//IBBACDQFdAHUCXQCgAKkFbQWcAQ8E1AAbAMsC2wOQBc8K7wR7BGoEFQKSBF0HOgnXCIsMMQRNAswGbQimCUcKRQtPCG0IlgeYA6oKkAzxCrQS2w6CDfEJ9QjtB9kLog13DOsLcAwlC00M\" type=\"audio/wav\" />\n",
       "                    Your browser does not support the audio element.\n",
       "                </audio>\n",
       "              "
      ],
      "text/plain": [
       "<IPython.lib.display.Audio object>"
      ]
     },
     "execution_count": 18,
     "metadata": {},
     "output_type": "execute_result"
    }
   ],
   "source": [
    "mapper = create_word_mapper('data/', 'data_mapping/')\n",
    "data_dir, word_dir = mapper['meta'][0], mapper['meta'][1]\n",
    "\n",
    "boys = mapper['BOY']\n",
    "fn, i = boys[1]\n",
    "wav = np.load(os.path.join(data_dir, f'{fn}.npz'))[f'arr_{i}']\n",
    "Audio(wav, rate=16000)"
   ]
  },
  {
   "cell_type": "code",
   "execution_count": 23,
   "id": "fe1d6e35-d245-4b25-a971-dfc2a67cfa6c",
   "metadata": {},
   "outputs": [
    {
     "data": {
      "text/plain": [
       "<All keys matched successfully>"
      ]
     },
     "execution_count": 23,
     "metadata": {},
     "output_type": "execute_result"
    }
   ],
   "source": [
    "model = Speech2Vec().float()\n",
    "ckpt = torch.load('ckpt/99.pt')\n",
    "model.load_state_dict(ckpt['state_dict'])\n"
   ]
  },
  {
   "cell_type": "code",
   "execution_count": 118,
   "id": "63f3de90-a560-494a-ab72-2fa9fec69920",
   "metadata": {},
   "outputs": [],
   "source": [
    "# sample_words = ['BOY', 'GIRL', 'LOVE', 'LIKE', 'HAPPY', 'MAN', 'WOMAN']\n",
    "sample_words = ['BOY', 'GIRL', 'MAN', 'WOMAN']\n",
    "sample_embs = []"
   ]
  },
  {
   "cell_type": "code",
   "execution_count": 119,
   "id": "96efa745-32c1-41cc-963c-12e5c38915ee",
   "metadata": {},
   "outputs": [
    {
     "name": "stdout",
     "output_type": "stream",
     "text": [
      "26\n",
      "16\n",
      "88\n",
      "21\n"
     ]
    }
   ],
   "source": [
    "for w in sample_words:\n",
    "    print(len(mapper[w]))"
   ]
  },
  {
   "cell_type": "code",
   "execution_count": 120,
   "id": "714eafad-afb7-4056-957f-fa8242f5d992",
   "metadata": {},
   "outputs": [],
   "source": [
    "for w in sample_words:\n",
    "    emb = get_embedding(w, model, mapper, method='average')\n",
    "    sample_embs.append(emb)\n"
   ]
  },
  {
   "cell_type": "code",
   "execution_count": 121,
   "id": "e5e57705-3033-4c7f-b05a-88ac5cec9f0c",
   "metadata": {},
   "outputs": [
    {
     "name": "stdout",
     "output_type": "stream",
     "text": [
      "(4, 50)\n"
     ]
    }
   ],
   "source": [
    "embs = torch.cat(sample_embs, dim=0).numpy()\n",
    "print(embs.shape)"
   ]
  },
  {
   "cell_type": "code",
   "execution_count": 122,
   "id": "8c474af7-5df4-4a3a-93c5-a103f28eef53",
   "metadata": {},
   "outputs": [],
   "source": [
    "from sklearn.decomposition import PCA\n",
    "\n",
    "pca = PCA(n_components=2)\n",
    "\n"
   ]
  },
  {
   "cell_type": "code",
   "execution_count": 123,
   "id": "9c1506e8-054e-4b71-a084-fe50bf24ea73",
   "metadata": {},
   "outputs": [],
   "source": [
    "p_emb = pca.fit_transform(embs)"
   ]
  },
  {
   "cell_type": "code",
   "execution_count": 124,
   "id": "487e89d3-d708-47f8-8484-fe8dd0f77d2e",
   "metadata": {},
   "outputs": [],
   "source": [
    "import matplotlib.pyplot as plt\n"
   ]
  },
  {
   "cell_type": "code",
   "execution_count": 125,
   "id": "92eb1f11-b3cb-4ee1-b97e-5830af8f384b",
   "metadata": {},
   "outputs": [
    {
     "data": {
      "image/png": "[encoded data removed]",
      "text/plain": [
       "<Figure size 432x288 with 1 Axes>"
      ]
     },
     "metadata": {
      "needs_background": "light"
     },
     "output_type": "display_data"
    }
   ],
   "source": [
    "plt.scatter(p_emb[:, 0], p_emb[:, 1])\n",
    "# annotate\n",
    "for i, w in enumerate(sample_words):\n",
    "    plt.annotate(w, (p_emb[i, 0], p_emb[i, 1]))"
   ]
  },
  {
   "cell_type": "code",
   "execution_count": null,
   "id": "ec4275e8-ef3d-417c-8c23-515cab5c0f62",
   "metadata": {},
   "outputs": [],
   "source": []
  },
  {
   "cell_type": "code",
   "execution_count": 51,
   "id": "5597f688-48d3-4f96-ab0a-d1674c769203",
   "metadata": {},
   "outputs": [
    {
     "data": {
      "text/plain": [
       "<matplotlib.collections.PathCollection at 0x1c95d994ca0>"
      ]
     },
     "execution_count": 51,
     "metadata": {},
     "output_type": "execute_result"
    },
    {
     "data": {
      "image/png": "[encoded data removed]",
      "text/plain": [
       "<Figure size 432x288 with 1 Axes>"
      ]
     },
     "metadata": {
      "needs_background": "light"
     },
     "output_type": "display_data"
    }
   ],
   "source": [
    "plt.scatter(p_emb[: boy.size(0), 0], p_emb[: boy.size(0), 1])\n",
    "plt.scatter(p_emb[boy.size(0): , 0], p_emb[boy.size(0): , 1])"
   ]
  },
  {
   "cell_type": "code",
   "execution_count": 22,
   "id": "63cb2dce-5360-4bd5-bce3-227e4d6ccd6f",
   "metadata": {},
   "outputs": [
    {
     "data": {
      "text/plain": [
       "[<matplotlib.lines.Line2D at 0x1c95951ea00>]"
      ]
     },
     "execution_count": 22,
     "metadata": {},
     "output_type": "execute_result"
    },
    {
     "data": {
      "image/png": "[encoded data removed]",
      "text/plain": [
       "<Figure size 432x288 with 1 Axes>"
      ]
     },
     "metadata": {
      "needs_background": "light"
     },
     "output_type": "display_data"
    }
   ],
   "source": [
    "plt.plot(ckpt['losses'])"
   ]
  },
  {
   "cell_type": "code",
   "execution_count": 152,
   "id": "ee65f7af-580a-4bc6-b031-43509321fddd",
   "metadata": {},
   "outputs": [
    {
     "data": {
      "text/plain": [
       "tensor([0.4779, 0.1058, 0.0768, 0.5819, 0.2183, 0.0649, 0.3519, 0.0807, 0.1727,\n",
       "        0.1135, 0.3986, 0.5366, 0.1715, 0.3678, 0.2315, 0.2612, 0.3832, 0.3195,\n",
       "        0.2868, 0.7633, 0.5204, 0.4462, 0.6411, 0.0764, 0.5518, 0.1764, 0.1963,\n",
       "        0.3746, 0.2351, 0.3127, 0.4338, 0.3049, 0.0361, 0.1284, 0.1775, 0.5420,\n",
       "        0.0231, 0.0125, 0.1024, 0.3078, 0.0404, 0.3525, 0.8100, 0.6168, 0.5159,\n",
       "        0.4015, 0.0605, 0.6432, 0.3698, 0.2326])"
      ]
     },
     "execution_count": 152,
     "metadata": {},
     "output_type": "execute_result"
    }
   ],
   "source": [
    "\n",
    "model = Speech2Vec().float()\n",
    "ckpt = torch.load('ckpt/96.pt')\n",
    "model.load_state_dict(ckpt['state_dict'])\n",
    "word = get_embedding('IT', model, mapper, method='all')\n",
    "word2 = get_embedding('THAT', model, mapper, method='all')\n",
    "\n",
    "\n",
    "std = word.std(dim=0)\n",
    "std"
   ]
  },
  {
   "cell_type": "code",
   "execution_count": 168,
   "id": "229f09bf-6df2-41d5-9ae0-ea2d3717c497",
   "metadata": {},
   "outputs": [
    {
     "data": {
      "text/plain": [
       "(array([ 22.,  83., 156., 188., 107.,  52.,  10.,   9.,  10.,   5.]),\n",
       " array([-2.2762685 , -2.1123981 , -1.9485276 , -1.7846571 , -1.6207867 ,\n",
       "        -1.4569162 , -1.2930458 , -1.1291753 , -0.9653049 , -0.80143446,\n",
       "        -0.637564  ], dtype=float32),\n",
       " <BarContainer object of 10 artists>)"
      ]
     },
     "execution_count": 168,
     "metadata": {},
     "output_type": "execute_result"
    },
    {
     "data": {
      "image/png": "[encoded data removed]",
      "text/plain": [
       "<Figure size 432x288 with 1 Axes>"
      ]
     },
     "metadata": {
      "needs_background": "light"
     },
     "output_type": "display_data"
    }
   ],
   "source": [
    "# plt.xlim(-10, 10)\n",
    "i = 49\n",
    "plt.hist(word[:, i].numpy(), alpha=0.5)\n",
    "plt.hist(word2[:, i].numpy(), alpha=0.5)"
   ]
  },
  {
   "cell_type": "code",
   "execution_count": null,
   "id": "987bca22-221d-40d1-aef0-150554e9e483",
   "metadata": {},
   "outputs": [],
   "source": [
    "model()"
   ]
  },
  {
   "cell_type": "code",
   "execution_count": 172,
   "id": "573640be-b144-4fea-8842-8bfa1ce1ddba",
   "metadata": {},
   "outputs": [
    {
     "name": "stderr",
     "output_type": "stream",
     "text": [
      "  0%|                                                                                           | 0/97 [00:00<?, ?it/s]\n",
      "100%|█████████████████████████████████████████████████████████████████████████████████| 97/97 [00:00<00:00, 283.56it/s]\u001b[A\n",
      "\n",
      "100%|█████████████████████████████████████████████████████████████████████████████████| 97/97 [00:00<00:00, 265.01it/s]\u001b[A\n"
     ]
    }
   ],
   "source": [
    "from dataset import *\n",
    "\n",
    "dataset = LibriSpeechDataset('data/', 'data_mapping/')\n"
   ]
  },
  {
   "cell_type": "code",
   "execution_count": 324,
   "id": "a954696a-5bc6-4692-8db9-efa68e9fe4e6",
   "metadata": {},
   "outputs": [
    {
     "data": {
      "text/plain": [
       "(['COATS'], [['BOOTS'], ['WRAPPED'], ['IN'], ['FOR'], ['PILLOWS'], ['STACY']])"
      ]
     },
     "execution_count": 324,
     "metadata": {},
     "output_type": "execute_result"
    }
   ],
   "source": [
    "from torch.utils.data import DataLoader\n",
    "\n",
    "dataloader = DataLoader(dataset, batch_size=1, collate_fn=dataset.pad_collate, shuffle=True)\n",
    "src, tgt, w, ws = next(iter(dataloader))\n",
    "w, ws"
   ]
  },
  {
   "cell_type": "code",
   "execution_count": 325,
   "id": "f96ab3db-a626-4ef9-9a77-f203fa518360",
   "metadata": {},
   "outputs": [],
   "source": [
    "out = model(src, tgt)\n",
    "itr = iter(range(6))"
   ]
  },
  {
   "cell_type": "code",
   "execution_count": 330,
   "id": "049e87ab-c040-46e4-8199-6a658725e8a2",
   "metadata": {},
   "outputs": [
    {
     "name": "stdout",
     "output_type": "stream",
     "text": [
      "10.665289 36.80632 43.252304\n"
     ]
    },
    {
     "data": {
      "image/png": "[encoded data removed]",
      "text/plain": [
       "<Figure size 432x288 with 3 Axes>"
      ]
     },
     "metadata": {
      "needs_background": "light"
     },
     "output_type": "display_data"
    }
   ],
   "source": [
    "fig, axs = plt.subplots(ncols=3)\n",
    "i = next(itr)\n",
    "\n",
    "ttt = tgt[i][0].numpy()\n",
    "axs[0].imshow(ttt[:-1])\n",
    "axs[1].imshow(ttt[1:])\n",
    "\n",
    "asd = out[i][:, 0, :].detach().numpy()\n",
    "axs[2].imshow(asd)\n",
    "print(((asd - ttt[: -1]) ** 2).mean(), ((asd - ttt[1:]) ** 2).mean(), ((ttt[:-1] - ttt[1:]) ** 2).mean() )"
   ]
  },
  {
   "cell_type": "markdown",
   "id": "4799310c-9278-46fe-ac14-e2ffd72cb7df",
   "metadata": {},
   "source": [
    "[tensor(0.3035),\n",
    " tensor(0.2907),\n",
    " tensor(0.3030),\n",
    " tensor(0.2939),\n",
    " tensor(0.2963)]"
   ]
  },
  {
   "cell_type": "markdown",
   "id": "22f7f01b-093f-4bd3-b835-1c12ea8e3378",
   "metadata": {},
   "source": [
    "[tensor(0.3005),\n",
    " tensor(0.2878),\n",
    " tensor(0.3000),\n",
    " tensor(0.2910),\n",
    " tensor(0.2934)]"
   ]
  },
  {
   "cell_type": "markdown",
   "id": "111a71a7-2c0c-48bc-a183-f94633b93be4",
   "metadata": {},
   "source": [
    "# Teacher Forcing Issue\n",
    "Exposure Bias of ground truth is too strong that it mostly predict itself!\n",
    "\n",
    "Might have to start training with TF and later learn without TF, or just learn with TF.\n",
    "\n",
    "Also, I don't know if TF can be used in non-CrossEntropy setting..."
   ]
  },
  {
   "cell_type": "code",
   "execution_count": null,
   "id": "26127332-3536-4f2e-8a5e-e727a2c6c2e2",
   "metadata": {},
   "outputs": [],
   "source": []
  }
 ],
 "metadata": {
  "kernelspec": {
   "display_name": "Python 3",
   "language": "python",
   "name": "python3"
  },
  "language_info": {
   "codemirror_mode": {
    "name": "ipython",
    "version": 3
   },
   "file_extension": ".py",
   "mimetype": "text/x-python",
   "name": "python",
   "nbconvert_exporter": "python",
   "pygments_lexer": "ipython3",
   "version": "3.8.5"
  }
 },
 "nbformat": 4,
 "nbformat_minor": 5
}
