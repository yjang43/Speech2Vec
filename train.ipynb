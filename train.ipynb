{
 "cells": [
  {
   "cell_type": "code",
   "execution_count": 10,
   "id": "e9973489-594d-4373-bbc3-aae5524b426e",
   "metadata": {},
   "outputs": [],
   "source": [
    "from easydict import EasyDict as edict\n",
    "\n",
    "args = edict({\n",
    "    'data_dir': 'data/',\n",
    "    'word_dir': 'data_mapping/',\n",
    "    'window_sz': 3,\n",
    "    'mfcc_dim': 13,\n",
    "    'embedding_dim': 50,\n",
    "    'lr': 1e-3,\n",
    "    'batch_sz': 32,\n",
    "    'epochs': 10,\n",
    "    'device': 'cpu',\n",
    "    'print_itr': 10,\n",
    "    'ckpt_dir': 'ckpt',\n",
    "    'ckpt_n': '9.pt',\n",
    "})"
   ]
  },
  {
   "cell_type": "code",
   "execution_count": 11,
   "id": "ce0d172f-d773-45ca-bcbd-9dffeb6b664c",
   "metadata": {},
   "outputs": [],
   "source": [
    "import os\n",
    "\n",
    "from model import *\n",
    "from dataset import *\n",
    "# from tqdm.notebook import tqdm"
   ]
  },
  {
   "cell_type": "code",
   "execution_count": 16,
   "id": "ed460811-2bce-41a8-a3d1-2b131e1bbabd",
   "metadata": {},
   "outputs": [],
   "source": [
    "def save_ckpt(ckpt_dir, ckpt_n, keep_topk=5, **kwargs):\n",
    "    fs = sorted([f for f in os.listdir(ckpt_dir) if f[-3: ] == '.pt'], \n",
    "                key=lambda f: int(f.split('.')[0]))\n",
    "    \n",
    "    if keep_topk <= len(fs):     # trick to delete ckpt\n",
    "        os.rename(os.path.join(ckpt_dir, fs[0]), os.path.join(ckpt_dir, ckpt_n))\n",
    "    \n",
    "    # make sure state_dict is in cpu()\n",
    "    for p in kwargs['state_dict']:\n",
    "        kwargs['state_dict'][p].cpu()\n",
    "    torch.save(kwargs, os.path.join(ckpt_dir, ckpt_n))\n"
   ]
  },
  {
   "cell_type": "code",
   "execution_count": 13,
   "id": "13a5e680-2442-497a-a298-c245df814f7b",
   "metadata": {},
   "outputs": [
    {
     "name": "stderr",
     "output_type": "stream",
     "text": [
      "  0%|                                                     | 0/1 [00:00<?, ?it/s]\n",
      "\n",
      "100%|████████████████████████████████████████████| 1/1 [00:00<00:00, 176.18it/s]\u001b[A\u001b[A\n",
      "100%|████████████████████████████████████████████| 1/1 [00:00<00:00, 223.71it/s]\n"
     ]
    }
   ],
   "source": [
    "os.makedirs(args.ckpt_dir, exist_ok=True)\n",
    "\n",
    "ckpt = torch.load(os.path.join(args.ckpt_dir, args.ckpt_n)) if args.ckpt_n else None\n",
    "\n",
    "model = Speech2Vec(input_dim=args.mfcc_dim, hidden_dim=args.embedding_dim, window_sz=args.window_sz)\n",
    "model.to(args.device)\n",
    "\n",
    "dataset = LibriSpeechDataset(data_dir=args.data_dir, word_dir=args.word_dir, window_sz=args.window_sz)\n",
    "# dataset = LibriSpeechDatasetFast(data_dir=args.data_dir, word_dir=args.word_dir, window_sz=args.window_sz)\n",
    "dataloader = DataLoader(dataset, batch_size=args.batch_sz, shuffle=True, collate_fn=dataset.pad_collate)"
   ]
  },
  {
   "cell_type": "code",
   "execution_count": 14,
   "id": "f6118267-a068-4a9e-a289-2ead0181b574",
   "metadata": {},
   "outputs": [],
   "source": [
    "if ckpt is not None:\n",
    "    # TODO: validate on args\n",
    "    # model load from ckpt\n",
    "    model.cpu()\n",
    "    model.load_state_dict(ckpt['state_dict'])\n",
    "    model.to(args.device)\n",
    "    \n",
    "    # status variables load from ckpt\n",
    "    from_epoch = ckpt['epoch'] + 1\n",
    "    itr = ckpt['itr']\n",
    "    losses = ckpt['losses']\n",
    "\n",
    "else:\n",
    "    # initialize status variables\n",
    "    from_epoch = 0\n",
    "    itr = 0\n",
    "    losses = []"
   ]
  },
  {
   "cell_type": "code",
   "execution_count": 15,
   "id": "4aa316bb-971a-402a-a95f-3a34b1d58a6d",
   "metadata": {},
   "outputs": [
    {
     "name": "stderr",
     "output_type": "stream",
     "text": [
      "Epoch: 8.957 | Loss: 413.036:  90%|█████████▉ | 208/230 [01:50<00:11,  1.88it/s]\n",
      "/var/folders/8m/f9qyvdm50px677r3f__7st4h0000gn/T/ipykernel_54127/2617671798.py:29: UserWarning: torch.nn.utils.clip_grad_norm is now deprecated in favor of torch.nn.utils.clip_grad_norm_.\n",
      "  nn.utils.clip_grad.clip_grad_norm(model.parameters(), max_norm=5.0)\n",
      "Epoch: 9.826 | Loss: 352.683: 100%|█████████████| 23/23 [00:09<00:00,  2.71it/s]"
     ]
    }
   ],
   "source": [
    "\n",
    "criterion = nn.MSELoss()\n",
    "optimizer = optim.Adam(params=model.parameters(), lr=args.lr)\n",
    "\n",
    "\n",
    "train_progbar = tqdm(range((args.epochs - from_epoch) * len(dataloader)))\n",
    "\n",
    "for epoch in range(from_epoch, args.epochs):\n",
    "    model.train()\n",
    "    for batch_idx, batch in enumerate(dataloader):\n",
    "        src, tgts, _, _ = batch\n",
    "        src = [s.to(args.device) for s in src]\n",
    "        tgts = [[t.to(args.device) for t in tgt] for tgt in tgts]\n",
    "\n",
    "        optimizer.zero_grad()\n",
    "\n",
    "        # pred is padded sequence\n",
    "        preds = model(src, tgts)\n",
    "                \n",
    "        for k in range(2 * args.window_sz):\n",
    "            if k == 0:\n",
    "                loss = torch.zeros(1)\n",
    "            # tgt likewise need to be padded sequence.\n",
    "            tgt = nn.utils.rnn.pad_sequence(tgts[k])[1: ]\n",
    "            loss += criterion(preds[k], tgt)\n",
    "\n",
    "        loss.backward()\n",
    "        optimizer.step()\n",
    "        # TODO: Clipping to prevent gradient explosion\n",
    "        nn.utils.clip_grad.clip_grad_norm(model.parameters(), max_norm=5.0)\n",
    "\n",
    "        if (itr + 1) % args.print_itr == 0:\n",
    "            loss_item = loss.item()\n",
    "            losses.append(loss_item)\n",
    "            train_progbar.set_description((f\"Epoch: {round(epoch + batch_idx / len(dataloader), 3)} | \" \\\n",
    "                                          f\"Loss: {round(loss_item, 3)}\"))\n",
    "            train_progbar.refresh()\n",
    "        \n",
    "        \n",
    "        # TODO: DELETE LINES\n",
    "        if itr == 500:\n",
    "            break\n",
    "            \n",
    "        train_progbar.update()\n",
    "        itr += 1\n",
    "    \n",
    "    # evaluation code could be added here\n",
    "    model.eval()\n",
    "    # logging information about evaluation\n",
    "    # save model after epoch\n",
    "    save_ckpt(\n",
    "        args.ckpt_dir, \n",
    "        f'{epoch + 1}.pt', \n",
    "        state_dict=model.state_dict(), \n",
    "        itr=itr, \n",
    "        epoch=epoch, \n",
    "        losses=losses\n",
    "    )\n"
   ]
  },
  {
   "cell_type": "code",
   "execution_count": null,
   "id": "b9a2297a-5574-47d7-8c14-f6008f429650",
   "metadata": {},
   "outputs": [],
   "source": []
  },
  {
   "cell_type": "code",
   "execution_count": 13,
   "id": "9c70cacb-2108-44a0-a5bf-14146d6da3d8",
   "metadata": {},
   "outputs": [
    {
     "name": "stdout",
     "output_type": "stream",
     "text": [
      "1 2\n",
      "3 4\n"
     ]
    }
   ],
   "source": [
    "for k, v in {1:2, 3:4}.items():\n",
    "    print(k, v)"
   ]
  },
  {
   "cell_type": "code",
   "execution_count": 28,
   "id": "27ed1389-4b10-4142-8e43-950a95b757e9",
   "metadata": {},
   "outputs": [],
   "source": []
  },
  {
   "cell_type": "code",
   "execution_count": 34,
   "id": "c1f861ca-2a58-4906-a14f-08847dbc493a",
   "metadata": {},
   "outputs": [],
   "source": [
    "\n",
    "save_ckpt(args.ckpt_dir, f'6.pt',\n",
    "          state_dict=model.state_dict(), itr=itr, epoch=(epoch + 1), losses=losses)"
   ]
  },
  {
   "cell_type": "code",
   "execution_count": 13,
   "id": "cc389daf-423e-457c-ae74-db723a78d92e",
   "metadata": {},
   "outputs": [
    {
     "data": {
      "text/plain": [
       "[<matplotlib.lines.Line2D at 0x2bc52c880>]"
      ]
     },
     "execution_count": 13,
     "metadata": {},
     "output_type": "execute_result"
    },
    {
     "data": {
      "image/png": "[encoded data removed]",
      "text/plain": [
       "<Figure size 432x288 with 1 Axes>"
      ]
     },
     "metadata": {
      "needs_background": "light"
     },
     "output_type": "display_data"
    }
   ],
   "source": [
    "import matplotlib.pyplot as plt\n",
    "plt.plot(losses)"
   ]
  },
  {
   "cell_type": "code",
   "execution_count": 18,
   "id": "e89175d7-ca71-4ea5-a51c-f4c162202349",
   "metadata": {},
   "outputs": [],
   "source": [
    "\n",
    "torch.save(model.state_dict(), 'ckpt/01.pt')"
   ]
  },
  {
   "cell_type": "code",
   "execution_count": 22,
   "id": "2af8af4d-bc45-4fec-87eb-3f5dc7d08f60",
   "metadata": {},
   "outputs": [
    {
     "name": "stdout",
     "output_type": "stream",
     "text": [
      "{'a': 'b'}\n"
     ]
    },
    {
     "ename": "TypeError",
     "evalue": "'a' is an invalid keyword argument for print()",
     "output_type": "error",
     "traceback": [
      "\u001b[0;31m---------------------------------------------------------------------------\u001b[0m",
      "\u001b[0;31mTypeError\u001b[0m                                 Traceback (most recent call last)",
      "Input \u001b[0;32mIn [22]\u001b[0m, in \u001b[0;36m<module>\u001b[0;34m\u001b[0m\n\u001b[1;32m      2\u001b[0m     \u001b[38;5;28mprint\u001b[39m(kwargs)\n\u001b[1;32m      3\u001b[0m     \u001b[38;5;28mprint\u001b[39m(\u001b[38;5;241m*\u001b[39m\u001b[38;5;241m*\u001b[39mkwargs)\n\u001b[0;32m----> 4\u001b[0m \u001b[43ma\u001b[49m\u001b[43m(\u001b[49m\u001b[43ma\u001b[49m\u001b[38;5;241;43m=\u001b[39;49m\u001b[38;5;124;43m'\u001b[39;49m\u001b[38;5;124;43mb\u001b[39;49m\u001b[38;5;124;43m'\u001b[39;49m\u001b[43m)\u001b[49m\n",
      "Input \u001b[0;32mIn [22]\u001b[0m, in \u001b[0;36ma\u001b[0;34m(**kwargs)\u001b[0m\n\u001b[1;32m      1\u001b[0m \u001b[38;5;28;01mdef\u001b[39;00m \u001b[38;5;21ma\u001b[39m(\u001b[38;5;241m*\u001b[39m\u001b[38;5;241m*\u001b[39mkwargs):\n\u001b[1;32m      2\u001b[0m     \u001b[38;5;28mprint\u001b[39m(kwargs)\n\u001b[0;32m----> 3\u001b[0m     \u001b[38;5;28;43mprint\u001b[39;49m\u001b[43m(\u001b[49m\u001b[38;5;241;43m*\u001b[39;49m\u001b[38;5;241;43m*\u001b[39;49m\u001b[43mkwargs\u001b[49m\u001b[43m)\u001b[49m\n",
      "\u001b[0;31mTypeError\u001b[0m: 'a' is an invalid keyword argument for print()"
     ]
    }
   ],
   "source": [
    "def a(**kwargs):\n",
    "    print(kwargs)\n",
    "    print(**kwargs)\n",
    "a(a='b')"
   ]
  },
  {
   "cell_type": "code",
   "execution_count": null,
   "id": "f57f7d14-d879-4322-adbd-55b91655ee92",
   "metadata": {},
   "outputs": [],
   "source": []
  }
 ],
 "metadata": {
  "kernelspec": {
   "display_name": "Python [conda env:ml]",
   "language": "python",
   "name": "conda-env-ml-py"
  },
  "language_info": {
   "codemirror_mode": {
    "name": "ipython",
    "version": 3
   },
   "file_extension": ".py",
   "mimetype": "text/x-python",
   "name": "python",
   "nbconvert_exporter": "python",
   "pygments_lexer": "ipython3",
   "version": "3.8.11"
  }
 },
 "nbformat": 4,
 "nbformat_minor": 5
}
