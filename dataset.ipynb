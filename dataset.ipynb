{
 "cells": [
  {
   "cell_type": "code",
   "execution_count": 201,
   "id": "21c3b361-aa60-40c3-900d-1f6575a260fd",
   "metadata": {},
   "outputs": [],
   "source": [
    "import os\n",
    "import numpy as np\n",
    "import torch\n",
    "import torch.nn as nn\n",
    "\n",
    "from bisect import bisect_right\n",
    "from torch.utils.data import DataLoader, Dataset\n",
    "from tqdm import tqdm\n",
    "from python_speech_features import mfcc\n",
    "\n",
    "\n",
    "class LibriSpeechDataset(Dataset):\n",
    "    \n",
    "    def __init__(self, data_dir, word_dir, window_sz=3):\n",
    "        self.data_dir = data_dir\n",
    "        self.window_sz = window_sz\n",
    "        self.npzs = [fn for fn in os.listdir(data_dir) if fn[-4:] == '.npz']\n",
    "        txts = [fn for fn in os.listdir(word_dir) if fn[-4:] == '.txt']\n",
    "        self.ptrs = [0]\n",
    "        self.words = []\n",
    "                \n",
    "        ptr_cnt = 0\n",
    "\n",
    "        for npz in tqdm(self.npzs):\n",
    "            word_cnt = np.load(os.path.join(data_dir, npz))['word_cnt']\n",
    "            ptr_cnt += word_cnt\n",
    "            self.ptrs.append(ptr_cnt)\n",
    "        for txt in tqdm(txts):\n",
    "            with open(os.path.join(word_dir, txt), 'r') as f:\n",
    "                ws = f.read()\n",
    "                self.words += ws.split()\n",
    "    \n",
    "    def __len__(self):\n",
    "        return self.ptrs[-1] - 2 * self.window_sz\n",
    "    \n",
    "    def __getitem__(self, idx):\n",
    "        ni = bisect_right(self.ptrs, idx)    # locate npz file\n",
    "        npz = self.npzs[ni - 1]\n",
    "        data = np.load(os.path.join(self.data_dir, npz))\n",
    "        \n",
    "        ds = []\n",
    "        ws = []\n",
    "        \n",
    "        for k in range(2 * self.window_sz + 1):\n",
    "            # load next npz file if necessary\n",
    "            if self.ptrs[ni] <= idx + k:\n",
    "                ni = ni + 1\n",
    "                npz = self.npzs[ni - 1]\n",
    "                data = np.load(os.path.join(self.data_dir, npz))\n",
    "            \n",
    "            d = data[f'arr_{idx + k - self.ptrs[ni - 1]}']\n",
    "            d = mfcc(d, samplerate=16000, winlen=0.025, winstep=0.01, numcep=13)\n",
    "            d = torch.from_numpy(d).float()\n",
    "            w = self.words[idx + k]\n",
    "            \n",
    "            ds.append(d)\n",
    "            ws.append(w)\n",
    "            \n",
    "        src, tgts = ds[self.window_sz], ds[: self.window_sz] + ds[self.window_sz + 1: ]\n",
    "        src_word, tgt_words = ws[self.window_sz], ws[: self.window_sz] + ws[self.window_sz + 1: ]\n",
    "        \n",
    "        \n",
    "        return {'src': src, 'tgts': tgts, \n",
    "                'src_word': src_word, 'tgt_words': tgt_words}\n",
    "    \n",
    "\n",
    "    # collate function\n",
    "    # TODO: PAD vs PACKING be sure of the differences!\n",
    "    # might need to remember the length of each data\n",
    "    def pad_collate(self, batch):\n",
    "        src = [item['src'] for item in batch]\n",
    "        src = nn.utils.rnn.pack_sequence(src, enforce_sorted=False)\n",
    "        # src = nn.utils.rnn.pad_sequence(src)\n",
    "        src_word = [item['src_word'] for item in batch]\n",
    "\n",
    "        tgts = []\n",
    "        tgt_words = []\n",
    "        for i in range(2 * self.window_sz):\n",
    "            tgt = [item['tgts'][i] for item in batch]\n",
    "            tgt = nn.utils.rnn.pack_sequence(tgt, enforce_sorted=False)\n",
    "            # tgt = nn.utils.rnn.pad_sequence(tgt)\n",
    "            tgt_word = [item['tgt_words'][i] for item in batch]\n",
    "            \n",
    "            tgts.append(tgt)\n",
    "            tgt_words.append(tgt_word)\n",
    "\n",
    "        return src, tgts, src_word, tgt_words\n"
   ]
  },
  {
   "cell_type": "code",
   "execution_count": 202,
   "id": "b13645dc-2c89-4f96-8592-b0a30d06171e",
   "metadata": {},
   "outputs": [],
   "source": [
    "# 1, 2, 3, 4, 5\n",
    "# cache\n",
    "# starting from 1\n",
    "# if ni is the same than use the cache\n",
    "# if not than go to next one\n",
    "\n",
    "\n",
    "# size= total size - 2 * window_sz\n",
    "\n",
    "# 0, 1, 2, *3*, 4, 5\n",
    "\n",
    "# do for loop and searhc search?\n",
    "# having ni, that will give w\n",
    "# check if next offset is within the ptr range\n",
    "# if not go to next pointer and stuff\n"
   ]
  },
  {
   "cell_type": "code",
   "execution_count": 203,
   "id": "0b82bfae-204e-4c2a-8de1-e18b54cf7ee7",
   "metadata": {},
   "outputs": [
    {
     "name": "stderr",
     "output_type": "stream",
     "text": [
      "100%|██████████████████████████████████████████| 87/87 [00:00<00:00, 517.95it/s]\n",
      "100%|████████████████████████████████████████| 87/87 [00:00<00:00, 18155.35it/s]\n"
     ]
    }
   ],
   "source": [
    "dataset = LibriSpeechDataset('data', 'data_mapping/')\n",
    "iter_dataloader = iter(DataLoader(dataset, batch_size=2, collate_fn=dataset.pad_collate))\n"
   ]
  },
  {
   "cell_type": "code",
   "execution_count": 204,
   "id": "4f6c3bfa-4f92-4601-8ef8-a0a02df9709a",
   "metadata": {},
   "outputs": [],
   "source": [
    "import matplotlib.pyplot as plt\n",
    "# from python_speech_features import mfcc\n"
   ]
  },
  {
   "cell_type": "code",
   "execution_count": 215,
   "id": "e60225fe-8292-4a40-b330-604595e1ed1d",
   "metadata": {},
   "outputs": [
    {
     "data": {
      "image/png": "[encoded data removed]",
      "text/plain": [
       "<Figure size 432x288 with 1 Axes>"
      ]
     },
     "metadata": {
      "needs_background": "light"
     },
     "output_type": "display_data"
    }
   ],
   "source": [
    "src, tgts, src_word, tgt_words = next(iter_dataloader)\n",
    "\n",
    "# feat = mfcc(d, samplerate=16000, winlen=0.025, winstep=0.01, numcep=13)\n",
    "ret = plt.imshow(src[:, 0, :].numpy(), aspect='auto')"
   ]
  },
  {
   "cell_type": "code",
   "execution_count": 206,
   "id": "47451f64-6b72-4d01-8f38-d6dc0d7a2389",
   "metadata": {},
   "outputs": [
    {
     "data": {
      "text/plain": [
       "[[tensor(10), tensor(12)],\n",
       " [tensor(12), tensor(15)],\n",
       " [tensor(15), tensor(9)],\n",
       " [tensor(7), tensor(57)],\n",
       " [tensor(57), tensor(9)],\n",
       " [tensor(9), tensor(35)]]"
      ]
     },
     "execution_count": 206,
     "metadata": {},
     "output_type": "execute_result"
    }
   ],
   "source": [
    "tgt_lens"
   ]
  },
  {
   "cell_type": "code",
   "execution_count": 182,
   "id": "430fc4f3-fb23-41b1-9bfa-ec7b014cfc32",
   "metadata": {},
   "outputs": [
    {
     "data": {
      "text/plain": [
       "[tensor(9), tensor(7)]"
      ]
     },
     "execution_count": 182,
     "metadata": {},
     "output_type": "execute_result"
    }
   ],
   "source": [
    "src_len"
   ]
  },
  {
   "cell_type": "code",
   "execution_count": 140,
   "id": "84873094-b15d-47b3-9f67-d4e1f6ccd455",
   "metadata": {},
   "outputs": [
    {
     "data": {
      "text/plain": [
       "['TO', 'CELEBRATE']"
      ]
     },
     "execution_count": 140,
     "metadata": {},
     "output_type": "execute_result"
    }
   ],
   "source": [
    "tgt_words[0]"
   ]
  },
  {
   "cell_type": "code",
   "execution_count": null,
   "id": "949ee884-362c-4249-b208-a944c36aa018",
   "metadata": {},
   "outputs": [],
   "source": []
  },
  {
   "cell_type": "code",
   "execution_count": 12,
   "id": "4fc0257d-97f8-4b81-96a4-cfa3543545ec",
   "metadata": {},
   "outputs": [
    {
     "name": "stdout",
     "output_type": "stream",
     "text": [
      "CPU times: user 1 µs, sys: 0 ns, total: 1 µs\n",
      "Wall time: 2.86 µs\n"
     ]
    },
    {
     "data": {
      "text/plain": [
       "tensor([[  48,   25,   34,  ..., 1697, 1222, 1070]], dtype=torch.int16)"
      ]
     },
     "execution_count": 12,
     "metadata": {},
     "output_type": "execute_result"
    }
   ],
   "source": [
    "%time\n",
    "next(iter_dataloader)"
   ]
  },
  {
   "cell_type": "code",
   "execution_count": 21,
   "id": "750f0cf5-3772-48bc-a9d9-71773830b4d7",
   "metadata": {},
   "outputs": [
    {
     "name": "stdout",
     "output_type": "stream",
     "text": [
      "0\n",
      "1\n",
      "2\n",
      "3\n",
      "4\n",
      "5\n",
      "6\n",
      "7\n",
      "8\n",
      "9\n",
      "10\n",
      "11\n",
      "12\n",
      "13\n",
      "14\n",
      "15\n",
      "16\n",
      "17\n",
      "18\n",
      "19\n",
      "20\n",
      "21\n",
      "22\n",
      "23\n",
      "24\n",
      "25\n",
      "26\n",
      "27\n",
      "28\n",
      "29\n",
      "30\n",
      "31\n",
      "32\n",
      "33\n",
      "34\n",
      "35\n",
      "36\n",
      "37\n",
      "38\n",
      "39\n",
      "40\n",
      "41\n",
      "42\n",
      "43\n",
      "44\n",
      "45\n",
      "46\n",
      "47\n",
      "48\n",
      "49\n",
      "50\n",
      "51\n",
      "52\n",
      "53\n",
      "54\n",
      "55\n",
      "56\n",
      "57\n",
      "58\n",
      "59\n",
      "60\n",
      "61\n",
      "62\n",
      "63\n",
      "64\n",
      "65\n",
      "66\n",
      "67\n",
      "68\n",
      "69\n",
      "70\n",
      "71\n",
      "72\n",
      "73\n",
      "74\n",
      "75\n",
      "76\n",
      "77\n",
      "78\n",
      "79\n",
      "80\n",
      "81\n",
      "82\n",
      "83\n",
      "84\n",
      "85\n",
      "86\n",
      "87\n",
      "88\n",
      "89\n",
      "90\n",
      "91\n",
      "92\n",
      "93\n",
      "94\n",
      "95\n",
      "96\n",
      "97\n",
      "98\n",
      "99\n"
     ]
    }
   ],
   "source": [
    "import torch\n",
    "i = 0\n",
    "while i < 100:\n",
    "    print(i)\n",
    "    torch.eq(next(iter_dataloader), torch.tensor(data[f'arr_{next(iter_num)}'])).all()\n",
    "    i += 1\n"
   ]
  },
  {
   "cell_type": "code",
   "execution_count": 24,
   "id": "62d6144d-69a2-4b0a-943e-82bca4787341",
   "metadata": {},
   "outputs": [
    {
     "data": {
      "text/plain": [
       "array([-9239, -9466, -9471, ...,   237,   291,   249], dtype=int16)"
      ]
     },
     "execution_count": 24,
     "metadata": {},
     "output_type": "execute_result"
    }
   ],
   "source": [
    "data = np.load(f'data/{dataset.npzs[1]}')\n",
    "data['arr_1']"
   ]
  },
  {
   "cell_type": "code",
   "execution_count": 25,
   "id": "e13fc697-67ab-4c54-b439-453efc87ec74",
   "metadata": {},
   "outputs": [
    {
     "data": {
      "text/plain": [
       "array([-9239, -9466, -9471, ...,   237,   291,   249], dtype=int16)"
      ]
     },
     "execution_count": 25,
     "metadata": {},
     "output_type": "execute_result"
    }
   ],
   "source": [
    "dataset[624]"
   ]
  },
  {
   "cell_type": "code",
   "execution_count": 19,
   "id": "7719b163-8b02-4565-bc06-395e7dae83f3",
   "metadata": {},
   "outputs": [
    {
     "data": {
      "text/plain": [
       "array(721)"
      ]
     },
     "execution_count": 19,
     "metadata": {},
     "output_type": "execute_result"
    }
   ],
   "source": [
    "data['word_cnt']"
   ]
  },
  {
   "cell_type": "code",
   "execution_count": null,
   "id": "50818997-36a3-4dcb-b40b-bcf522a36403",
   "metadata": {},
   "outputs": [],
   "source": [
    "# read all the npy files and check sizes\n",
    "# let's say they already sorted\n",
    "# index\n",
    "\n",
    "# binary search on it\n",
    "# open the file "
   ]
  },
  {
   "cell_type": "code",
   "execution_count": null,
   "id": "034463a2-2aec-4772-a064-834ec85181bc",
   "metadata": {},
   "outputs": [],
   "source": [
    "# if memmap it doesn't make any sense to keep opening files\n",
    "# just open everything once \n",
    "# "
   ]
  }
 ],
 "metadata": {
  "kernelspec": {
   "display_name": "Python [conda env:ml]",
   "language": "python",
   "name": "conda-env-ml-py"
  },
  "language_info": {
   "codemirror_mode": {
    "name": "ipython",
    "version": 3
   },
   "file_extension": ".py",
   "mimetype": "text/x-python",
   "name": "python",
   "nbconvert_exporter": "python",
   "pygments_lexer": "ipython3",
   "version": "3.8.11"
  }
 },
 "nbformat": 4,
 "nbformat_minor": 5
}
