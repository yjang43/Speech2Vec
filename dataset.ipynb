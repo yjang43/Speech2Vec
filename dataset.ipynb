{
 "cells": [
  {
   "cell_type": "code",
   "execution_count": 1,
   "id": "d96aab08-56a2-4e90-8e9e-16394b3f9230",
   "metadata": {},
   "outputs": [],
   "source": [
    "import os\n",
    "import numpy as np\n",
    "\n",
    "from bisect import bisect_right\n",
    "from torch.utils.data import DataLoader, Dataset\n",
    "from tqdm import tqdm"
   ]
  },
  {
   "cell_type": "code",
   "execution_count": 10,
   "id": "21c3b361-aa60-40c3-900d-1f6575a260fd",
   "metadata": {},
   "outputs": [],
   "source": [
    "\n",
    "\n",
    "class LibriSpeechDataset(Dataset):\n",
    "    \n",
    "    def __init__(self, data_dir):\n",
    "        self.data_dir = data_dir\n",
    "        self.npzs = [fn for fn in os.listdir(data_dir) if fn[-4:] == '.npz']\n",
    "        self.bookmark = [0]\n",
    "                \n",
    "        bookmark_cnt = 0\n",
    "\n",
    "        for npz in tqdm(self.npzs):\n",
    "            word_cnt = np.load(os.path.join(data_dir, npz))['word_cnt']\n",
    "            bookmark_cnt += word_cnt\n",
    "            self.bookmark.append(bookmark_cnt)\n",
    "    \n",
    "    def __len__(self):\n",
    "        return self.bookmark[-1]\n",
    "    \n",
    "    def __getitem__(self, idx):\n",
    "        ni = bisect_right(self.bookmark, idx)    # locate npz file\n",
    "        npz = self.npzs[ni - 1]\n",
    "        data = np.load(os.path.join(self.data_dir, npz))\n",
    "        d = data[f'arr_{idx - self.bookmark[ni - 1]}']\n",
    "        \n",
    "        return d\n"
   ]
  },
  {
   "cell_type": "code",
   "execution_count": 20,
   "id": "47ec546f-e637-477d-a695-8d6a2a37e01b",
   "metadata": {},
   "outputs": [
    {
     "name": "stderr",
     "output_type": "stream",
     "text": [
      "100%|██████████████████████████████████████████| 87/87 [00:00<00:00, 372.36it/s]\n"
     ]
    }
   ],
   "source": [
    "dataset = LibriSpeechDataset('data')\n",
    "# dataset.idx_bookmark\n",
    "iter_dataloader = iter(DataLoader(dataset))\n",
    "\n",
    "data = np.load(f'data/{dataset.npzs[0]}')\n",
    "iter_num = iter(range(1000))"
   ]
  },
  {
   "cell_type": "code",
   "execution_count": 19,
   "id": "949ee884-362c-4249-b208-a944c36aa018",
   "metadata": {},
   "outputs": [
    {
     "data": {
      "text/plain": [
       "tensor([[  48,   25,   34,  ..., 1697, 1222, 1070]], dtype=torch.int16)"
      ]
     },
     "execution_count": 19,
     "metadata": {},
     "output_type": "execute_result"
    }
   ],
   "source": [
    "data['arr_0']\n",
    "next(iter_dataloader)"
   ]
  },
  {
   "cell_type": "code",
   "execution_count": 12,
   "id": "4fc0257d-97f8-4b81-96a4-cfa3543545ec",
   "metadata": {},
   "outputs": [
    {
     "name": "stdout",
     "output_type": "stream",
     "text": [
      "CPU times: user 1 µs, sys: 0 ns, total: 1 µs\n",
      "Wall time: 2.86 µs\n"
     ]
    },
    {
     "data": {
      "text/plain": [
       "tensor([[  48,   25,   34,  ..., 1697, 1222, 1070]], dtype=torch.int16)"
      ]
     },
     "execution_count": 12,
     "metadata": {},
     "output_type": "execute_result"
    }
   ],
   "source": [
    "%time\n",
    "next(iter_dataloader)"
   ]
  },
  {
   "cell_type": "code",
   "execution_count": 21,
   "id": "750f0cf5-3772-48bc-a9d9-71773830b4d7",
   "metadata": {},
   "outputs": [
    {
     "name": "stdout",
     "output_type": "stream",
     "text": [
      "0\n",
      "1\n",
      "2\n",
      "3\n",
      "4\n",
      "5\n",
      "6\n",
      "7\n",
      "8\n",
      "9\n",
      "10\n",
      "11\n",
      "12\n",
      "13\n",
      "14\n",
      "15\n",
      "16\n",
      "17\n",
      "18\n",
      "19\n",
      "20\n",
      "21\n",
      "22\n",
      "23\n",
      "24\n",
      "25\n",
      "26\n",
      "27\n",
      "28\n",
      "29\n",
      "30\n",
      "31\n",
      "32\n",
      "33\n",
      "34\n",
      "35\n",
      "36\n",
      "37\n",
      "38\n",
      "39\n",
      "40\n",
      "41\n",
      "42\n",
      "43\n",
      "44\n",
      "45\n",
      "46\n",
      "47\n",
      "48\n",
      "49\n",
      "50\n",
      "51\n",
      "52\n",
      "53\n",
      "54\n",
      "55\n",
      "56\n",
      "57\n",
      "58\n",
      "59\n",
      "60\n",
      "61\n",
      "62\n",
      "63\n",
      "64\n",
      "65\n",
      "66\n",
      "67\n",
      "68\n",
      "69\n",
      "70\n",
      "71\n",
      "72\n",
      "73\n",
      "74\n",
      "75\n",
      "76\n",
      "77\n",
      "78\n",
      "79\n",
      "80\n",
      "81\n",
      "82\n",
      "83\n",
      "84\n",
      "85\n",
      "86\n",
      "87\n",
      "88\n",
      "89\n",
      "90\n",
      "91\n",
      "92\n",
      "93\n",
      "94\n",
      "95\n",
      "96\n",
      "97\n",
      "98\n",
      "99\n"
     ]
    }
   ],
   "source": [
    "import torch\n",
    "i = 0\n",
    "while i < 100:\n",
    "    print(i)\n",
    "    torch.eq(next(iter_dataloader), torch.tensor(data[f'arr_{next(iter_num)}'])).all()\n",
    "    i += 1\n"
   ]
  },
  {
   "cell_type": "code",
   "execution_count": 24,
   "id": "62d6144d-69a2-4b0a-943e-82bca4787341",
   "metadata": {},
   "outputs": [
    {
     "data": {
      "text/plain": [
       "array([-9239, -9466, -9471, ...,   237,   291,   249], dtype=int16)"
      ]
     },
     "execution_count": 24,
     "metadata": {},
     "output_type": "execute_result"
    }
   ],
   "source": [
    "data = np.load(f'data/{dataset.npzs[1]}')\n",
    "data['arr_1']"
   ]
  },
  {
   "cell_type": "code",
   "execution_count": 25,
   "id": "e13fc697-67ab-4c54-b439-453efc87ec74",
   "metadata": {},
   "outputs": [
    {
     "data": {
      "text/plain": [
       "array([-9239, -9466, -9471, ...,   237,   291,   249], dtype=int16)"
      ]
     },
     "execution_count": 25,
     "metadata": {},
     "output_type": "execute_result"
    }
   ],
   "source": [
    "dataset[624]"
   ]
  },
  {
   "cell_type": "code",
   "execution_count": 19,
   "id": "7719b163-8b02-4565-bc06-395e7dae83f3",
   "metadata": {},
   "outputs": [
    {
     "data": {
      "text/plain": [
       "array(721)"
      ]
     },
     "execution_count": 19,
     "metadata": {},
     "output_type": "execute_result"
    }
   ],
   "source": [
    "data['word_cnt']"
   ]
  },
  {
   "cell_type": "code",
   "execution_count": null,
   "id": "50818997-36a3-4dcb-b40b-bcf522a36403",
   "metadata": {},
   "outputs": [],
   "source": [
    "# read all the npy files and check sizes\n",
    "# let's say they already sorted\n",
    "# index\n",
    "\n",
    "# binary search on it\n",
    "# open the file "
   ]
  },
  {
   "cell_type": "code",
   "execution_count": null,
   "id": "034463a2-2aec-4772-a064-834ec85181bc",
   "metadata": {},
   "outputs": [],
   "source": [
    "# if memmap it doesn't make any sense to keep opening files\n",
    "# just open everything once \n",
    "# "
   ]
  }
 ],
 "metadata": {
  "kernelspec": {
   "display_name": "Python [conda env:ml]",
   "language": "python",
   "name": "conda-env-ml-py"
  },
  "language_info": {
   "codemirror_mode": {
    "name": "ipython",
    "version": 3
   },
   "file_extension": ".py",
   "mimetype": "text/x-python",
   "name": "python",
   "nbconvert_exporter": "python",
   "pygments_lexer": "ipython3",
   "version": "3.8.11"
  }
 },
 "nbformat": 4,
 "nbformat_minor": 5
}
