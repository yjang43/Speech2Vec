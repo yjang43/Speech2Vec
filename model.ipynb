{
 "cells": [
  {
   "cell_type": "code",
   "execution_count": 8,
   "id": "000bd680-8c66-4550-95c8-a3f4cf60b342",
   "metadata": {},
   "outputs": [],
   "source": [
    "import math\n",
    "import torch\n",
    "import torch.nn as nn\n",
    "import torch.nn.functional as F\n",
    "import torch.optim as optim\n",
    "\n",
    "\n",
    "\n",
    "class ConditionalGRU(nn.Module):\n",
    "    \"\"\"Reference: https://github.com/Maluuba/gensen/blob/master/models.py\n",
    "    \"\"\"\n",
    "\n",
    "    def __init__(self, input_dim, hidden_dim, dropout=0):\n",
    "        super(ConditionalGRU, self).__init__()\n",
    "        self.input_dim = input_dim\n",
    "        self.hidden_dim = hidden_dim\n",
    "\n",
    "        self.input_weights = nn.Linear(self.input_dim, 3 * self.hidden_dim)\n",
    "        self.hidden_weights = nn.Linear(self.hidden_dim, 3 * self.hidden_dim)\n",
    "        self.peep_weights = nn.Linear(self.hidden_dim, 3 * self.hidden_dim)\n",
    "\n",
    "        self.reset_parameters()    # TODO:Check if this is necessary\n",
    "\n",
    "    def reset_parameters(self):\n",
    "        stdv = 1.0 / math.sqrt(self.hidden_dim)\n",
    "        for weight in self.parameters():\n",
    "            weight.data.uniform_(-stdv, stdv)\n",
    "\n",
    "    def forward(self, input, hidden, ctx):\n",
    "        def recurrence(input, hidden, ctx):\n",
    "            \"\"\"Recurrence helper\n",
    "            \"\"\"\n",
    "            input_gate = self.input_weights(input)\n",
    "            hidden_gate = self.hidden_weights(hidden)\n",
    "            peep_gate = self.peep_weights(ctx)\n",
    "            i_r, i_i, i_n = input_gate.chunk(3, 1)\n",
    "            h_r, h_i, h_n = hidden_gate.chunk(3, 1)\n",
    "            p_r, p_i, p_n = peep_gate.chunk(3, 1)\n",
    "            resetgate = F.sigmoid(i_r + h_r + p_r)\n",
    "            inputgate = F.sigmoid(i_i + h_i + p_i)\n",
    "            newgate = F.tanh(i_n + resetgate * h_n + p_n)\n",
    "            # hy = newgate + inputgate * (hidden - newgate)\n",
    "            hy = hidden - inputgate * (hidden - newgate)     # Revision: https://github.com/Maluuba/gensen/issues/5\n",
    "\n",
    "            return hy\n",
    "        \n",
    "\n",
    "        output = []\n",
    "        steps = range(input.size(0))\n",
    "        for i in steps:\n",
    "            hidden = recurrence(input[i], hidden, ctx)\n",
    "            if isinstance(hidden, tuple):\n",
    "                output.append(hidden[0])\n",
    "            else:\n",
    "                output.append(hidden)\n",
    "\n",
    "        output = torch.cat(output, 0).view(input.size(0), *output[0].size())\n",
    "        return output, hidden\n",
    "\n",
    "\n",
    "class Speech2Vec(nn.Module):\n",
    "    \"\"\"Speech2Vec implementation, inspired by Earth Species Project\n",
    "    https://github.com/earthspecies/unsupervised-speech-translation/blob/main/unsup_st/speech2vec.py\n",
    "    \"\"\"\n",
    "    def __init__(self, input_dim=13, hidden_dim=50, window_sz=3):\n",
    "        super(Speech2Vec, self).__init__()\n",
    "        self.window_sz = window_sz\n",
    "        \n",
    "        self.encoder = nn.GRU(input_size=input_dim,\n",
    "                              hidden_size=hidden_dim, \n",
    "                              bidirectional=True,\n",
    "                              bias=False)\n",
    "\n",
    "        self.projection = nn.Linear(2 * hidden_dim, hidden_dim)\n",
    "        \n",
    "        self.decoders = nn.ModuleList(ConditionalGRU(input_dim=input_dim,\n",
    "                                                     hidden_dim=hidden_dim,\n",
    "                                                     dropout=0)\n",
    "                                      for _ in range(2 * window_sz))\n",
    "\n",
    "        self.head = nn.Linear(hidden_dim, input_dim)\n",
    "\n",
    "\n",
    "    def forward(self, x_n, xs_k):\n",
    "        x_n = nn.utils.rnn.pack_sequence(x_n, enforce_sorted=False)\n",
    "        \n",
    "        _, h_n = self.encoder(x_n)\n",
    "        h_n = torch.cat((h_n[0], h_n[1]), dim=1)\n",
    "\n",
    "        z_n = self.projection(h_n)\n",
    "\n",
    "        ys_k = []\n",
    "            \n",
    "        for k in range(2 * self.window_sz):\n",
    "            x_k = nn.utils.rnn.pad_sequence(xs_k[k])\n",
    "            # h_k, (_, _) = self.decoders[k](x_k[: -1])\n",
    "            \n",
    "            out_k, _ = self.decoders[k](x_k[: -1], z_n, z_n)\n",
    "            # print(f\"out_n: {out_k.shape}\")\n",
    "            y_k = self.head(out_k)\n",
    "            ys_k.append(y_k)\n",
    "        \n",
    "        return ys_k\n",
    "            "
   ]
  },
  {
   "cell_type": "code",
   "execution_count": 9,
   "id": "675d9f85-7856-446d-862c-9f4b45954bf1",
   "metadata": {},
   "outputs": [],
   "source": [
    "from dataset import *"
   ]
  },
  {
   "cell_type": "code",
   "execution_count": 10,
   "id": "6df9957c-1564-406c-b915-d3fc121e80ae",
   "metadata": {},
   "outputs": [
    {
     "ename": "AttributeError",
     "evalue": "'Speech2Vec' object has no attribute 'tmp'",
     "output_type": "error",
     "traceback": [
      "\u001b[0;31m---------------------------------------------------------------------------\u001b[0m",
      "\u001b[0;31mAttributeError\u001b[0m                            Traceback (most recent call last)",
      "Input \u001b[0;32mIn [10]\u001b[0m, in \u001b[0;36m<module>\u001b[0;34m\u001b[0m\n\u001b[1;32m      1\u001b[0m \u001b[38;5;28;01mimport\u001b[39;00m \u001b[38;5;21;01mmatplotlib\u001b[39;00m\u001b[38;5;21;01m.\u001b[39;00m\u001b[38;5;21;01mpyplot\u001b[39;00m \u001b[38;5;28;01mas\u001b[39;00m \u001b[38;5;21;01mplt\u001b[39;00m\n\u001b[0;32m----> 2\u001b[0m plt\u001b[38;5;241m.\u001b[39mimshow(\u001b[43mmodel\u001b[49m\u001b[38;5;241;43m.\u001b[39;49m\u001b[43mtmp\u001b[49m\u001b[38;5;241m.\u001b[39mdetach()\u001b[38;5;241m.\u001b[39mnumpy()[\u001b[38;5;241m-\u001b[39m\u001b[38;5;241m1\u001b[39m, :, :\u001b[38;5;241m50\u001b[39m])\n",
      "File \u001b[0;32m~/miniconda3/envs/ml/lib/python3.8/site-packages/torch/nn/modules/module.py:1177\u001b[0m, in \u001b[0;36mModule.__getattr__\u001b[0;34m(self, name)\u001b[0m\n\u001b[1;32m   1175\u001b[0m     \u001b[38;5;28;01mif\u001b[39;00m name \u001b[38;5;129;01min\u001b[39;00m modules:\n\u001b[1;32m   1176\u001b[0m         \u001b[38;5;28;01mreturn\u001b[39;00m modules[name]\n\u001b[0;32m-> 1177\u001b[0m \u001b[38;5;28;01mraise\u001b[39;00m \u001b[38;5;167;01mAttributeError\u001b[39;00m(\u001b[38;5;124m\"\u001b[39m\u001b[38;5;124m'\u001b[39m\u001b[38;5;132;01m{}\u001b[39;00m\u001b[38;5;124m'\u001b[39m\u001b[38;5;124m object has no attribute \u001b[39m\u001b[38;5;124m'\u001b[39m\u001b[38;5;132;01m{}\u001b[39;00m\u001b[38;5;124m'\u001b[39m\u001b[38;5;124m\"\u001b[39m\u001b[38;5;241m.\u001b[39mformat(\n\u001b[1;32m   1178\u001b[0m     \u001b[38;5;28mtype\u001b[39m(\u001b[38;5;28mself\u001b[39m)\u001b[38;5;241m.\u001b[39m\u001b[38;5;18m__name__\u001b[39m, name))\n",
      "\u001b[0;31mAttributeError\u001b[0m: 'Speech2Vec' object has no attribute 'tmp'"
     ]
    }
   ],
   "source": [
    "import matplotlib.pyplot as plt\n",
    "plt.imshow(model.tmp.detach().numpy()[-1, :, :50])"
   ]
  },
  {
   "cell_type": "code",
   "execution_count": 17,
   "id": "508e2d2b-a26e-4927-ba08-2245d9e511e8",
   "metadata": {},
   "outputs": [
    {
     "data": {
      "text/plain": [
       "<matplotlib.image.AxesImage at 0x16887b1f0>"
      ]
     },
     "execution_count": 17,
     "metadata": {},
     "output_type": "execute_result"
    },
    {
     "data": {
      "image/png": "[encoded data removed]",
      "text/plain": [
       "<Figure size 432x288 with 1 Axes>"
      ]
     },
     "metadata": {
      "needs_background": "light"
     },
     "output_type": "display_data"
    }
   ],
   "source": [
    "plt.imshow(model.h_n.detach().numpy())"
   ]
  },
  {
   "cell_type": "code",
   "execution_count": 41,
   "id": "dc78e437-2bf1-4f05-8ea1-d2c42ee5f1bd",
   "metadata": {},
   "outputs": [
    {
     "name": "stderr",
     "output_type": "stream",
     "text": [
      "100%|██████████████████████████████████████████| 87/87 [00:00<00:00, 440.83it/s]\n",
      "100%|█████████████████████████████████████████| 87/87 [00:00<00:00, 6868.66it/s]\n"
     ]
    }
   ],
   "source": [
    "model = Speech2Vec()\n",
    "\n",
    "dataset = LibriSpeechDataset('data/', 'data_mapping/', window_sz=3)\n",
    "dataloader = DataLoader(dataset, batch_size=16, collate_fn=dataset.pad_collate, shuffle=True)\n",
    "iter_dataloader = iter(dataloader)"
   ]
  },
  {
   "cell_type": "code",
   "execution_count": 42,
   "id": "d55d4446-4711-4430-b568-aefad7724841",
   "metadata": {},
   "outputs": [],
   "source": [
    "src, tgts, src_word, tgt_words = next(iter_dataloader)\n"
   ]
  },
  {
   "cell_type": "code",
   "execution_count": 43,
   "id": "b112cdef-c8c7-4d67-b460-1daed1ff17fb",
   "metadata": {},
   "outputs": [
    {
     "name": "stderr",
     "output_type": "stream",
     "text": [
      "/Users/yjang43/miniconda3/envs/ml/lib/python3.8/site-packages/torch/nn/functional.py:1806: UserWarning: nn.functional.sigmoid is deprecated. Use torch.sigmoid instead.\n",
      "  warnings.warn(\"nn.functional.sigmoid is deprecated. Use torch.sigmoid instead.\")\n",
      "/Users/yjang43/miniconda3/envs/ml/lib/python3.8/site-packages/torch/nn/functional.py:1795: UserWarning: nn.functional.tanh is deprecated. Use torch.tanh instead.\n",
      "  warnings.warn(\"nn.functional.tanh is deprecated. Use torch.tanh instead.\")\n"
     ]
    }
   ],
   "source": [
    "pred = model(src, tgts)"
   ]
  },
  {
   "cell_type": "code",
   "execution_count": 44,
   "id": "9e72a26e-a334-41e5-8662-c36ca795da4d",
   "metadata": {},
   "outputs": [],
   "source": [
    "from dataset import *\n",
    "\n",
    "criterion = nn.MSELoss()\n",
    "optimizer = optim.Adam(params=model.parameters(), lr=1e-3)"
   ]
  },
  {
   "cell_type": "code",
   "execution_count": null,
   "id": "e5315d46-ef5c-470d-bddd-e2183286fe8b",
   "metadata": {},
   "outputs": [
    {
     "name": "stdout",
     "output_type": "stream",
     "text": [
      "593.4263305664062\n",
      "570.8076171875\n",
      "584.8240356445312\n",
      "508.6585693359375\n",
      "488.059814453125\n",
      "586.1152954101562\n",
      "461.2074279785156\n",
      "504.1485900878906\n",
      "478.08880615234375\n",
      "483.2682800292969\n",
      "419.8824462890625\n",
      "471.4707946777344\n",
      "447.8199157714844\n",
      "434.62884521484375\n",
      "493.72467041015625\n",
      "489.2823486328125\n",
      "433.97686767578125\n",
      "456.89410400390625\n",
      "459.65252685546875\n",
      "408.5720520019531\n",
      "395.37677001953125\n",
      "437.0057067871094\n",
      "409.5643005371094\n",
      "342.5888671875\n",
      "368.9610595703125\n",
      "409.7039489746094\n",
      "390.1936950683594\n",
      "406.8690185546875\n",
      "315.5923767089844\n",
      "372.154541015625\n",
      "410.75970458984375\n",
      "393.5765075683594\n",
      "367.03985595703125\n",
      "354.0914611816406\n"
     ]
    }
   ],
   "source": [
    "losses = []\n",
    "window_sz = 3\n",
    "\n",
    "for idx, batch in enumerate(dataloader):\n",
    "    src, tgts, _, _ = batch\n",
    "    optimizer.zero_grad()\n",
    "    pred = model(src, tgts)\n",
    "\n",
    "    loss = 0\n",
    "    for i in range(2 * window_sz):\n",
    "        loss += criterion(pred[i], nn.utils.rnn.pad_sequence(tgts[i])[1: ])\n",
    "    \n",
    "    loss.backward()\n",
    "    optimizer.step()\n",
    "    \n",
    "    loss_item = loss.item()\n",
    "    if (idx + 1) % 10 == 0:\n",
    "        print(loss_item)\n",
    "    losses.append(loss_item)\n",
    "    if idx == 500:\n",
    "        break\n",
    "    "
   ]
  },
  {
   "cell_type": "code",
   "execution_count": 47,
   "id": "61fe7b60-23e9-4e04-aff2-a0348ac61e2a",
   "metadata": {},
   "outputs": [
    {
     "data": {
      "text/plain": [
       "[<matplotlib.lines.Line2D at 0x2902fc0a0>]"
      ]
     },
     "execution_count": 47,
     "metadata": {},
     "output_type": "execute_result"
    },
    {
     "data": {
      "image/png": "[encoded data removed]",
      "text/plain": [
       "<Figure size 432x288 with 1 Axes>"
      ]
     },
     "metadata": {
      "needs_background": "light"
     },
     "output_type": "display_data"
    }
   ],
   "source": [
    "import matplotlib.pyplot as plt\n",
    "\n",
    "plt.plot(losses)"
   ]
  },
  {
   "cell_type": "code",
   "execution_count": null,
   "id": "e93ce47a-db5e-4cd0-947d-9344ccf07f11",
   "metadata": {},
   "outputs": [],
   "source": []
  }
 ],
 "metadata": {
  "kernelspec": {
   "display_name": "Python [conda env:ml]",
   "language": "python",
   "name": "conda-env-ml-py"
  },
  "language_info": {
   "codemirror_mode": {
    "name": "ipython",
    "version": 3
   },
   "file_extension": ".py",
   "mimetype": "text/x-python",
   "name": "python",
   "nbconvert_exporter": "python",
   "pygments_lexer": "ipython3",
   "version": "3.8.11"
  }
 },
 "nbformat": 4,
 "nbformat_minor": 5
}
